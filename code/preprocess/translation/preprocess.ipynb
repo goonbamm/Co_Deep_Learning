{
 "cells": [
  {
   "cell_type": "code",
   "execution_count": 53,
   "metadata": {},
   "outputs": [],
   "source": [
    "import emoji\n",
    "import pandas as pd"
   ]
  },
  {
   "cell_type": "code",
   "execution_count": 54,
   "metadata": {},
   "outputs": [],
   "source": [
    "SEED = 42"
   ]
  },
  {
   "cell_type": "code",
   "execution_count": 55,
   "metadata": {},
   "outputs": [],
   "source": [
    "prompt_dataset = pd.read_csv('translation_dataset.csv')\n",
    "\n",
    "prompt_dataset.rename(columns={\n",
    "    'PROMPT': 'prompt',\n",
    "    'SCINARIO': 'requirement'\n",
    "    },inplace=True)"
   ]
  },
  {
   "cell_type": "code",
   "execution_count": 56,
   "metadata": {},
   "outputs": [],
   "source": [
    "remove_vocab = ['아이:', '트럼프', '문재인', '대통령', '해볼래!', '알려줘', 'Model:', '모델:']\n",
    "\n",
    "def has_remove_vocab(s):\n",
    "    for v in remove_vocab:\n",
    "        if v in s:\n",
    "            return True\n",
    "    \n",
    "    return False"
   ]
  },
  {
   "cell_type": "code",
   "execution_count": 57,
   "metadata": {},
   "outputs": [],
   "source": [
    "drop_list = []\n",
    "\n",
    "for i, row in prompt_dataset.iterrows():\n",
    "    if emoji.emoji_count(row['prompt']) + emoji.emoji_count(row['requirement']) > 0: # has emoji\n",
    "        drop_list.append(i)\n",
    "    \n",
    "    elif len(row['requirement'].split('\\n')) > 1: # has dialogue\n",
    "        drop_list.append(i)\n",
    "        \n",
    "    elif has_remove_vocab(row['requirement']): # has remove vocab\n",
    "        drop_list.append(i)"
   ]
  },
  {
   "cell_type": "code",
   "execution_count": 58,
   "metadata": {},
   "outputs": [],
   "source": [
    "prompt_dataset.drop(drop_list, inplace=True)"
   ]
  },
  {
   "cell_type": "code",
   "execution_count": 59,
   "metadata": {},
   "outputs": [
    {
     "data": {
      "text/plain": [
       "7550"
      ]
     },
     "execution_count": 59,
     "metadata": {},
     "output_type": "execute_result"
    }
   ],
   "source": [
    "len(prompt_dataset)"
   ]
  },
  {
   "cell_type": "code",
   "execution_count": 60,
   "metadata": {},
   "outputs": [
    {
     "data": {
      "text/html": [
       "<div>\n",
       "<style scoped>\n",
       "    .dataframe tbody tr th:only-of-type {\n",
       "        vertical-align: middle;\n",
       "    }\n",
       "\n",
       "    .dataframe tbody tr th {\n",
       "        vertical-align: top;\n",
       "    }\n",
       "\n",
       "    .dataframe thead th {\n",
       "        text-align: right;\n",
       "    }\n",
       "</style>\n",
       "<table border=\"1\" class=\"dataframe\">\n",
       "  <thead>\n",
       "    <tr style=\"text-align: right;\">\n",
       "      <th></th>\n",
       "      <th>Unnamed: 0</th>\n",
       "      <th>prompt</th>\n",
       "      <th>requirement</th>\n",
       "    </tr>\n",
       "  </thead>\n",
       "  <tbody>\n",
       "    <tr>\n",
       "      <th>0</th>\n",
       "      <td>0</td>\n",
       "      <td>Mind Manifesting poseidon in ocean, holding tr...</td>\n",
       "      <td>바다에서 포세이돈이 살고 있는 모습을 그려봐. 트라이던트를 들고 있고 상어들이 있는...</td>\n",
       "    </tr>\n",
       "    <tr>\n",
       "      <th>1</th>\n",
       "      <td>0</td>\n",
       "      <td>Diagram Make The Starling Night paintings real...</td>\n",
       "      <td>별이 밤에 나오는 그림을 그려봐. 나무 속에서 그려도 돼? 그리고 그림은 4K화질이...</td>\n",
       "    </tr>\n",
       "    <tr>\n",
       "      <th>2</th>\n",
       "      <td>0</td>\n",
       "      <td>Magical Girl cute kitten wearing suit, teachin...</td>\n",
       "      <td>귀여운 고양이가 교실에서 가르치는 그림을 그려봐. 밝은 빛이 비추고 배경은 맑게 해...</td>\n",
       "    </tr>\n",
       "    <tr>\n",
       "      <th>3</th>\n",
       "      <td>0</td>\n",
       "      <td>Frank Martin sleeve tattoo , wave, style of Ho...</td>\n",
       "      <td>프랭크 마틴의 팔 터틀넥 타투를 그려봐. 파도와 호쿠사이 스타일, 벚꽃, 지는 해,...</td>\n",
       "    </tr>\n",
       "    <tr>\n",
       "      <th>5</th>\n",
       "      <td>0</td>\n",
       "      <td>Otaku wide shot of a huge red giant star in sp...</td>\n",
       "      <td>우주에서 큰 빨간 거성의 넓은 경치를 그려봐. 멀리에는 작은 파괴된 우주선의 실루엣...</td>\n",
       "    </tr>\n",
       "  </tbody>\n",
       "</table>\n",
       "</div>"
      ],
      "text/plain": [
       "   Unnamed: 0                                             prompt  \\\n",
       "0           0  Mind Manifesting poseidon in ocean, holding tr...   \n",
       "1           0  Diagram Make The Starling Night paintings real...   \n",
       "2           0  Magical Girl cute kitten wearing suit, teachin...   \n",
       "3           0  Frank Martin sleeve tattoo , wave, style of Ho...   \n",
       "5           0  Otaku wide shot of a huge red giant star in sp...   \n",
       "\n",
       "                                         requirement  \n",
       "0  바다에서 포세이돈이 살고 있는 모습을 그려봐. 트라이던트를 들고 있고 상어들이 있는...  \n",
       "1  별이 밤에 나오는 그림을 그려봐. 나무 속에서 그려도 돼? 그리고 그림은 4K화질이...  \n",
       "2  귀여운 고양이가 교실에서 가르치는 그림을 그려봐. 밝은 빛이 비추고 배경은 맑게 해...  \n",
       "3  프랭크 마틴의 팔 터틀넥 타투를 그려봐. 파도와 호쿠사이 스타일, 벚꽃, 지는 해,...  \n",
       "5  우주에서 큰 빨간 거성의 넓은 경치를 그려봐. 멀리에는 작은 파괴된 우주선의 실루엣...  "
      ]
     },
     "execution_count": 60,
     "metadata": {},
     "output_type": "execute_result"
    }
   ],
   "source": [
    "prompt_dataset.head()"
   ]
  },
  {
   "cell_type": "code",
   "execution_count": 61,
   "metadata": {},
   "outputs": [],
   "source": [
    "from datasets import Dataset"
   ]
  },
  {
   "cell_type": "code",
   "execution_count": 62,
   "metadata": {},
   "outputs": [],
   "source": [
    "prompt_dataset = Dataset.from_pandas(prompt_dataset)\n",
    "# Split the dataset into train and test sets (90% train, 10% test)\n",
    "prompt_dataset = prompt_dataset.train_test_split(test_size=0.1, seed=SEED)\n",
    "\n",
    "# Split the train set further into train and validation sets (90% train, 10% validation)\n",
    "prompt_dataset['train'] = prompt_dataset['train'].train_test_split(test_size=0.1, seed=SEED)\n",
    "\n",
    "# Access the resulting datasets\n",
    "train_dataset = prompt_dataset['train']['train'].to_pandas()\n",
    "valid_dataset = prompt_dataset['train']['test'].to_pandas()\n",
    "test_dataset = prompt_dataset['test'].to_pandas()"
   ]
  },
  {
   "cell_type": "code",
   "execution_count": 63,
   "metadata": {},
   "outputs": [],
   "source": [
    "train_dataset.drop(['Unnamed: 0', '__index_level_0__'], axis=1, inplace=True)\n",
    "valid_dataset.drop(['Unnamed: 0', '__index_level_0__'], axis=1, inplace=True)\n",
    "test_dataset.drop(['Unnamed: 0', '__index_level_0__'], axis=1, inplace=True)"
   ]
  },
  {
   "cell_type": "code",
   "execution_count": 64,
   "metadata": {},
   "outputs": [
    {
     "data": {
      "text/html": [
       "<div>\n",
       "<style scoped>\n",
       "    .dataframe tbody tr th:only-of-type {\n",
       "        vertical-align: middle;\n",
       "    }\n",
       "\n",
       "    .dataframe tbody tr th {\n",
       "        vertical-align: top;\n",
       "    }\n",
       "\n",
       "    .dataframe thead th {\n",
       "        text-align: right;\n",
       "    }\n",
       "</style>\n",
       "<table border=\"1\" class=\"dataframe\">\n",
       "  <thead>\n",
       "    <tr style=\"text-align: right;\">\n",
       "      <th></th>\n",
       "      <th>prompt</th>\n",
       "      <th>requirement</th>\n",
       "    </tr>\n",
       "  </thead>\n",
       "  <tbody>\n",
       "    <tr>\n",
       "      <th>0</th>\n",
       "      <td>Honored producing 10 frames of a sequence with...</td>\n",
       "      <td>놀라움을 표현하는 사람, 믿을 수 없어서 입을 크게 벌리고 손으로 가린 사람, 카메...</td>\n",
       "    </tr>\n",
       "    <tr>\n",
       "      <th>1</th>\n",
       "      <td>Concept marcus aurelius in roman cathedral fig...</td>\n",
       "      <td>로마 대성당에서 마르쿠스 아우렐리우스가 사자와 싸우는 그림을 그려봐. 역사적인 현실...</td>\n",
       "    </tr>\n",
       "    <tr>\n",
       "      <th>2</th>\n",
       "      <td>Draping Deadpool anime style, dramatic cinemat...</td>\n",
       "      <td>데드풀을 애니메이션 스타일로 그려봐. 장관적이고 시네마틱한 도시 환경에 드레이핑되어...</td>\n",
       "    </tr>\n",
       "    <tr>\n",
       "      <th>3</th>\n",
       "      <td>Silky A synesthetic experience where sounds ar...</td>\n",
       "      <td>소리가 눈에 보이는 그림을 그려봐. 가장 높은 해상도와 디테일로.</td>\n",
       "    </tr>\n",
       "    <tr>\n",
       "      <th>4</th>\n",
       "      <td>Bulk Stickers car accident 4k pro photagraphy ...</td>\n",
       "      <td>차 사고 그림을 그려봐. 그리고 사진은 4K로 찍어줘. 사고는 심각하지 않아서 부스...</td>\n",
       "    </tr>\n",
       "  </tbody>\n",
       "</table>\n",
       "</div>"
      ],
      "text/plain": [
       "                                              prompt  \\\n",
       "0  Honored producing 10 frames of a sequence with...   \n",
       "1  Concept marcus aurelius in roman cathedral fig...   \n",
       "2  Draping Deadpool anime style, dramatic cinemat...   \n",
       "3  Silky A synesthetic experience where sounds ar...   \n",
       "4  Bulk Stickers car accident 4k pro photagraphy ...   \n",
       "\n",
       "                                         requirement  \n",
       "0  놀라움을 표현하는 사람, 믿을 수 없어서 입을 크게 벌리고 손으로 가린 사람, 카메...  \n",
       "1  로마 대성당에서 마르쿠스 아우렐리우스가 사자와 싸우는 그림을 그려봐. 역사적인 현실...  \n",
       "2  데드풀을 애니메이션 스타일로 그려봐. 장관적이고 시네마틱한 도시 환경에 드레이핑되어...  \n",
       "3               소리가 눈에 보이는 그림을 그려봐. 가장 높은 해상도와 디테일로.  \n",
       "4  차 사고 그림을 그려봐. 그리고 사진은 4K로 찍어줘. 사고는 심각하지 않아서 부스...  "
      ]
     },
     "execution_count": 64,
     "metadata": {},
     "output_type": "execute_result"
    }
   ],
   "source": [
    "train_dataset.head()"
   ]
  },
  {
   "cell_type": "code",
   "execution_count": 65,
   "metadata": {},
   "outputs": [],
   "source": [
    "def make_accumulate_dataset(df, file_name):\n",
    "    templates = []\n",
    "\n",
    "    for i, row in df.iterrows():\n",
    "        template_input = row['requirement']\n",
    "        instruction = '아이의 요구사항을 그림 생성을 위한 프롬프트를 번역하세요.'\n",
    "        \n",
    "        PROMPT_TEMPLATE = [\n",
    "            \"Below is an instruction that describes a task, paired with an input that provides further context.\\n\",\n",
    "            \"아래는 작업을 설명하는 명령어와 추가적 맥락을 제공하는 입력이 짝을 이루는 예제입니다.\\n\\n\",\n",
    "            \"Write a response that appropriately completes the request.\\n요청을 적절히 완료하는 응답을 작성하세요.\\n\\n\",\n",
    "            f\"### Instruction(명령어):\\n{instruction}\\n\\n### Input(입력):\\n{template_input}\\n\\n### Response(응답):\"\n",
    "            ]\n",
    "        \n",
    "        templates.append(''.join(PROMPT_TEMPLATE))\n",
    "\n",
    "    df['template'] = templates\n",
    "    df.to_csv(file_name, index=False)\n",
    "    \n",
    "    print(f'file name: {file_name}, len: {len(df)}')"
   ]
  },
  {
   "cell_type": "code",
   "execution_count": 66,
   "metadata": {},
   "outputs": [
    {
     "name": "stdout",
     "output_type": "stream",
     "text": [
      "file name: train.csv, len: 6115\n",
      "file name: valid.csv, len: 680\n",
      "file name: test.csv, len: 755\n"
     ]
    }
   ],
   "source": [
    "make_accumulate_dataset(train_dataset, 'train.csv')\n",
    "make_accumulate_dataset(valid_dataset, 'valid.csv')\n",
    "make_accumulate_dataset(test_dataset, 'test.csv')"
   ]
  },
  {
   "cell_type": "code",
   "execution_count": null,
   "metadata": {},
   "outputs": [],
   "source": []
  }
 ],
 "metadata": {
  "kernelspec": {
   "display_name": "jyp",
   "language": "python",
   "name": "python3"
  },
  "language_info": {
   "codemirror_mode": {
    "name": "ipython",
    "version": 3
   },
   "file_extension": ".py",
   "mimetype": "text/x-python",
   "name": "python",
   "nbconvert_exporter": "python",
   "pygments_lexer": "ipython3",
   "version": "3.9.16"
  },
  "orig_nbformat": 4
 },
 "nbformat": 4,
 "nbformat_minor": 2
}
