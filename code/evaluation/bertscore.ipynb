{
 "cells": [
  {
   "cell_type": "code",
   "execution_count": 32,
   "metadata": {},
   "outputs": [],
   "source": [
    "# hide the loading messages\n",
    "import logging\n",
    "import transformers\n",
    "\n",
    "import pandas as pd\n",
    "\n",
    "transformers.tokenization_utils.logger.setLevel(logging.ERROR)\n",
    "transformers.configuration_utils.logger.setLevel(logging.ERROR)\n",
    "transformers.modeling_utils.logger.setLevel(logging.ERROR)\n",
    "\n",
    "from bert_score import BERTScorer"
   ]
  },
  {
   "cell_type": "code",
   "execution_count": 33,
   "metadata": {},
   "outputs": [],
   "source": [
    "record = pd.read_csv('record.csv', index_col=False)\n",
    "scorer = BERTScorer(lang=\"en\", rescale_with_baseline=True)"
   ]
  },
  {
   "cell_type": "code",
   "execution_count": 34,
   "metadata": {},
   "outputs": [
    {
     "data": {
      "text/plain": [
       "Index(['prompt', 'requirement', 'GPT4, FULL INSTRUCTION, K=2, MANUAL',\n",
       "       'translation', 'GPT4, FULL INSTRUCTION, K=0',\n",
       "       'GPT4, FULL INSTRUCTION, K=2, RANDOM', 'GPT4, MINIMAL INSTRUCTION, K=0',\n",
       "       'conversation', 'GPT4, NO INSTRUCTION, K=2, MANUAL',\n",
       "       'GPT4, NO INSTRUCTION, K=4, MANUAL',\n",
       "       'GPT4, NO INSTRUCTION, K=6, MANUAL', 'KoAlpaca'],\n",
       "      dtype='object')"
      ]
     },
     "execution_count": 34,
     "metadata": {},
     "output_type": "execute_result"
    }
   ],
   "source": [
    "record.columns"
   ]
  },
  {
   "cell_type": "code",
   "execution_count": 36,
   "metadata": {},
   "outputs": [
    {
     "name": "stdout",
     "output_type": "stream",
     "text": [
      "prompt: 0.9999998807907104\n",
      "requirement: -0.6917164921760559\n",
      "GPT4, FULL INSTRUCTION, K=2, MANUAL: 0.36643362045288086\n",
      "translation: 0.09029065072536469\n",
      "GPT4, FULL INSTRUCTION, K=0: 0.37376314401626587\n",
      "GPT4, FULL INSTRUCTION, K=2, RANDOM: 0.3415583670139313\n",
      "GPT4, MINIMAL INSTRUCTION, K=0: 0.33272504806518555\n",
      "conversation: -0.20070981979370117\n",
      "GPT4, NO INSTRUCTION, K=2, MANUAL: 0.3579593896865845\n",
      "GPT4, NO INSTRUCTION, K=4, MANUAL: 0.33854368329048157\n",
      "GPT4, NO INSTRUCTION, K=6, MANUAL: 0.34931299090385437\n",
      "KoAlpaca: -0.1780482828617096\n"
     ]
    }
   ],
   "source": [
    "result_dict = {}\n",
    "\n",
    "for col in record.columns:\n",
    "    refs = list(record['prompt'])\n",
    "    cands = list(record[col])\n",
    "    \n",
    "    P, R, F1 = scorer.score(cands, refs)\n",
    "    F1 = F1.sum() / len(F1)\n",
    "    \n",
    "    result_dict[col] = F1.item()\n",
    "    print(f'{col}: {F1}')"
   ]
  },
  {
   "cell_type": "code",
   "execution_count": 37,
   "metadata": {},
   "outputs": [],
   "source": [
    "import csv\n",
    "\n",
    "with open('bertscore.csv', 'w') as f:\n",
    "    w = csv.DictWriter(f, result_dict.keys())\n",
    "    w.writeheader()\n",
    "    w.writerow(result_dict)\n"
   ]
  }
 ],
 "metadata": {
  "kernelspec": {
   "display_name": "cdl",
   "language": "python",
   "name": "python3"
  },
  "language_info": {
   "codemirror_mode": {
    "name": "ipython",
    "version": 3
   },
   "file_extension": ".py",
   "mimetype": "text/x-python",
   "name": "python",
   "nbconvert_exporter": "python",
   "pygments_lexer": "ipython3",
   "version": "3.9.16"
  },
  "orig_nbformat": 4
 },
 "nbformat": 4,
 "nbformat_minor": 2
}
