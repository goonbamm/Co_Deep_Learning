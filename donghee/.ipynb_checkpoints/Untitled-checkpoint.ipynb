{
 "cells": [
  {
   "cell_type": "code",
   "execution_count": 13,
   "id": "88a608bf",
   "metadata": {},
   "outputs": [],
   "source": [
    "import requests\n",
    "url = \"https://www.blueshadow.art/midjourney-prompt-commands/\"\n",
    "r = requests.get(url)"
   ]
  },
  {
   "cell_type": "code",
   "execution_count": 14,
   "id": "5e51d936",
   "metadata": {},
   "outputs": [
    {
     "data": {
      "text/plain": [
       "b'<!DOCTYPE HTML PUBLIC \"-//IETF//DTD HTML 2.0//EN\">\\n<html><head>\\n<title>410 Gone</title>\\n</head><body>\\n<h1>Gone</h1>\\n<p>The requested resource is no longer available on this server and there is no forwarding address.\\nPlease remove all references to this resource.</p>\\n</body></html>\\n'"
      ]
     },
     "execution_count": 14,
     "metadata": {},
     "output_type": "execute_result"
    }
   ],
   "source": [
    "r.content"
   ]
  },
  {
   "cell_type": "code",
   "execution_count": 4,
   "id": "c58cc292",
   "metadata": {},
   "outputs": [],
   "source": [
    "from bs4 import BeautifulSoup\n",
    "\n",
    "soup = BeautifulSoup(r.content, \"html.parser\")"
   ]
  },
  {
   "cell_type": "code",
   "execution_count": 5,
   "id": "63bbb810",
   "metadata": {},
   "outputs": [
    {
     "data": {
      "text/plain": [
       "<!DOCTYPE html>\n",
       "\n",
       "<!--[if lt IE 7]> <html class=\"no-js ie6 oldie\" lang=\"en-US\"> <![endif]-->\n",
       "<!--[if IE 7]>    <html class=\"no-js ie7 oldie\" lang=\"en-US\"> <![endif]-->\n",
       "<!--[if IE 8]>    <html class=\"no-js ie8 oldie\" lang=\"en-US\"> <![endif]-->\n",
       "<!--[if gt IE 8]><!--> <html class=\"no-js\" lang=\"en-US\"> <!--<![endif]-->\n",
       "<head>\n",
       "<title>Attention Required! | Cloudflare</title>\n",
       "<meta charset=\"utf-8\"/>\n",
       "<meta content=\"text/html; charset=utf-8\" http-equiv=\"Content-Type\"/>\n",
       "<meta content=\"IE=Edge\" http-equiv=\"X-UA-Compatible\"/>\n",
       "<meta content=\"noindex, nofollow\" name=\"robots\"/>\n",
       "<meta content=\"width=device-width,initial-scale=1\" name=\"viewport\"/>\n",
       "<link href=\"/cdn-cgi/styles/cf.errors.css\" id=\"cf_styles-css\" rel=\"stylesheet\"/>\n",
       "<!--[if lt IE 9]><link rel=\"stylesheet\" id='cf_styles-ie-css' href=\"/cdn-cgi/styles/cf.errors.ie.css\" /><![endif]-->\n",
       "<style>body{margin:0;padding:0}</style>\n",
       "<!--[if gte IE 10]><!-->\n",
       "<script>\n",
       "  if (!navigator.cookieEnabled) {\n",
       "    window.addEventListener('DOMContentLoaded', function () {\n",
       "      var cookieEl = document.getElementById('cookie-alert');\n",
       "      cookieEl.style.display = 'block';\n",
       "    })\n",
       "  }\n",
       "</script>\n",
       "<!--<![endif]-->\n",
       "</head>\n",
       "<body>\n",
       "<div id=\"cf-wrapper\">\n",
       "<div class=\"cf-alert cf-alert-error cf-cookie-error\" data-translate=\"enable_cookies\" id=\"cookie-alert\">Please enable cookies.</div>\n",
       "<div class=\"cf-error-details-wrapper\" id=\"cf-error-details\">\n",
       "<div class=\"cf-wrapper cf-header cf-error-overview\">\n",
       "<h1 data-translate=\"block_headline\">Sorry, you have been blocked</h1>\n",
       "<h2 class=\"cf-subheadline\"><span data-translate=\"unable_to_access\">You are unable to access</span> prompthero.com</h2>\n",
       "</div><!-- /.header -->\n",
       "<div class=\"cf-section cf-highlight\">\n",
       "<div class=\"cf-wrapper\">\n",
       "<div class=\"cf-screenshot-container cf-screenshot-full\">\n",
       "<span class=\"cf-no-screenshot error\"></span>\n",
       "</div>\n",
       "</div>\n",
       "</div><!-- /.captcha-container -->\n",
       "<div class=\"cf-section cf-wrapper\">\n",
       "<div class=\"cf-columns two\">\n",
       "<div class=\"cf-column\">\n",
       "<h2 data-translate=\"blocked_why_headline\">Why have I been blocked?</h2>\n",
       "<p data-translate=\"blocked_why_detail\">This website is using a security service to protect itself from online attacks. The action you just performed triggered the security solution. There are several actions that could trigger this block including submitting a certain word or phrase, a SQL command or malformed data.</p>\n",
       "</div>\n",
       "<div class=\"cf-column\">\n",
       "<h2 data-translate=\"blocked_resolve_headline\">What can I do to resolve this?</h2>\n",
       "<p data-translate=\"blocked_resolve_detail\">You can email the site owner to let them know you were blocked. Please include what you were doing when this page came up and the Cloudflare Ray ID found at the bottom of this page.</p>\n",
       "</div>\n",
       "</div>\n",
       "</div><!-- /.section -->\n",
       "<div class=\"cf-error-footer cf-wrapper w-240 lg:w-full py-10 sm:py-4 sm:px-8 mx-auto text-center sm:text-left border-solid border-0 border-t border-gray-300\">\n",
       "<p class=\"text-13\">\n",
       "<span class=\"cf-footer-item sm:block sm:mb-1\">Cloudflare Ray ID: <strong class=\"font-semibold\">7bde1dbd18e40a82</strong></span>\n",
       "<span class=\"cf-footer-separator sm:hidden\">•</span>\n",
       "<span class=\"cf-footer-item hidden sm:block sm:mb-1\" id=\"cf-footer-item-ip\">\n",
       "      Your IP:\n",
       "      <button class=\"cf-footer-ip-reveal-btn\" id=\"cf-footer-ip-reveal\" type=\"button\">Click to reveal</button>\n",
       "<span class=\"hidden\" id=\"cf-footer-ip\">115.145.171.129</span>\n",
       "<span class=\"cf-footer-separator sm:hidden\">•</span>\n",
       "</span>\n",
       "<span class=\"cf-footer-item sm:block sm:mb-1\"><span>Performance &amp; security by</span> <a href=\"https://www.cloudflare.com/5xx-error-landing\" id=\"brand_link\" rel=\"noopener noreferrer\" target=\"_blank\">Cloudflare</a></span>\n",
       "</p>\n",
       "<script>(function(){function d(){var b=a.getElementById(\"cf-footer-item-ip\"),c=a.getElementById(\"cf-footer-ip-reveal\");b&&\"classList\"in b&&(b.classList.remove(\"hidden\"),c.addEventListener(\"click\",function(){c.classList.add(\"hidden\");a.getElementById(\"cf-footer-ip\").classList.remove(\"hidden\")}))}var a=document;document.addEventListener&&a.addEventListener(\"DOMContentLoaded\",d)})();</script>\n",
       "</div><!-- /.error-footer -->\n",
       "</div><!-- /#cf-error-details -->\n",
       "</div><!-- /#cf-wrapper -->\n",
       "<script>\n",
       "  window._cf_translation = {};\n",
       "  \n",
       "  \n",
       "</script>\n",
       "</body>\n",
       "</html>"
      ]
     },
     "execution_count": 5,
     "metadata": {},
     "output_type": "execute_result"
    }
   ],
   "source": [
    "soup"
   ]
  },
  {
   "cell_type": "code",
   "execution_count": 26,
   "id": "d21bbc43",
   "metadata": {},
   "outputs": [
    {
     "name": "stdout",
     "output_type": "stream",
     "text": [
      "Midjourney prompt examples : List of commands - Blue Shadow\n"
     ]
    }
   ],
   "source": [
    "from selenium import webdriver\n",
    "from selenium.webdriver.common.by import By\n",
    "\n",
    "driver = webdriver.Chrome()\n",
    "driver.get(\"https://www.blueshadow.art/midjourney-prompt-commands/\")\n",
    "\n",
    "print(driver.title)\n"
   ]
  },
  {
   "cell_type": "code",
   "execution_count": 18,
   "id": "474bd233",
   "metadata": {},
   "outputs": [
    {
     "data": {
      "text/plain": [
       "<selenium.webdriver.chrome.webdriver.WebDriver (session=\"95f7bd60931c95ed94a3362928ace965\")>"
      ]
     },
     "execution_count": 18,
     "metadata": {},
     "output_type": "execute_result"
    }
   ],
   "source": [
    "driver"
   ]
  },
  {
   "cell_type": "code",
   "execution_count": 29,
   "id": "032b8fb3",
   "metadata": {},
   "outputs": [],
   "source": [
    "element = driver.find_element(By.TAG_NAME, 'html')\n",
    "html = element.get_attribute(\"outerHTML\")\n",
    "soup = BeautifulSoup(html, \"html.parser\")"
   ]
  },
  {
   "cell_type": "code",
   "execution_count": 34,
   "id": "dfcb654b",
   "metadata": {},
   "outputs": [
    {
     "data": {
      "text/plain": [
       "74"
      ]
     },
     "execution_count": 34,
     "metadata": {},
     "output_type": "execute_result"
    }
   ],
   "source": [
    "div_list = soup.find_all(\"div\", {\"class\": \"vc_row wpb_row vc_row-fluid\"})\n",
    "len(div_list)"
   ]
  },
  {
   "cell_type": "code",
   "execution_count": 60,
   "id": "36a1a934",
   "metadata": {},
   "outputs": [
    {
     "data": {
      "text/html": [
       "<div>\n",
       "<style scoped>\n",
       "    .dataframe tbody tr th:only-of-type {\n",
       "        vertical-align: middle;\n",
       "    }\n",
       "\n",
       "    .dataframe tbody tr th {\n",
       "        vertical-align: top;\n",
       "    }\n",
       "\n",
       "    .dataframe thead th {\n",
       "        text-align: right;\n",
       "    }\n",
       "</style>\n",
       "<table border=\"1\" class=\"dataframe\">\n",
       "  <thead>\n",
       "    <tr style=\"text-align: right;\">\n",
       "      <th></th>\n",
       "      <th>PROMPT</th>\n",
       "      <th>IMAGE_URL</th>\n",
       "    </tr>\n",
       "  </thead>\n",
       "  <tbody>\n",
       "  </tbody>\n",
       "</table>\n",
       "</div>"
      ],
      "text/plain": [
       "Empty DataFrame\n",
       "Columns: [PROMPT, IMAGE_URL]\n",
       "Index: []"
      ]
     },
     "execution_count": 60,
     "metadata": {},
     "output_type": "execute_result"
    }
   ],
   "source": [
    "import pandas as pd\n",
    "COLUMNS = ['PROMPT','IMAGE_URL']\n",
    "df = pd.DataFrame(columns=COLUMNS)\n",
    "df"
   ]
  },
  {
   "cell_type": "code",
   "execution_count": null,
   "id": "007e9d24",
   "metadata": {},
   "outputs": [],
   "source": []
  },
  {
   "cell_type": "code",
   "execution_count": 61,
   "id": "a272b132",
   "metadata": {},
   "outputs": [
    {
     "name": "stdout",
     "output_type": "stream",
     "text": [
      "https://www.blueshadow.art/wp-content/uploads/2022/09/prompt01.jpg\n",
      "Anthropomorphic majestic blobfish knight, portrait, finely detailed armor, cinematic lighting, intricate filigree metal design, 4k, 8k, unreal engine, octane render\n",
      "\n",
      "https://www.blueshadow.art/wp-content/uploads/2022/09/prompt02.jpg\n",
      "big labyrinth, escher like, ornaments, hedges, Art nouveau\n",
      "\n",
      "https://www.blueshadow.art/wp-content/uploads/2022/09/prompt03.jpg\n",
      "Mystic Old Male Warrior, Concept Character, portrait, Profile, Fantasy, Magic, Wisdom, Magic Glowing Runes, Astonishing, Mystical, Runic Tattoos, Intricate detail, mist, Digital art, Stanley Artgerm Lau, Karol Bak, Bokey\n",
      "\n",
      "https://www.blueshadow.art/wp-content/uploads/2022/09/prompt04.jpg\n",
      "tiny cute adorable ginger tabby kitten studio light\n",
      "\n",
      "https://www.blueshadow.art/wp-content/uploads/2022/09/prompt05.jpg\n",
      "a quasar forms at the end of a long hallway + liminal space + hyperrealistic + unreal engine\n",
      "\n",
      "https://www.blueshadow.art/wp-content/uploads/2022/09/prompt06.jpg\n",
      "a little girl with light brown short wavy curly hair and blue eyes floating in space, gazing in wonder at a quasar, Clear, detailed face. Clean Cel shaded vector art by lois van baarle, artgerm, Helen huang, by makoto shinkai and ilya kuvshinov, rossdraws, illustration\n",
      "\n",
      "https://www.blueshadow.art/wp-content/uploads/2022/09/prompt07.jpg\n",
      "sci-fi cosmic diarama of a quasar and jellyfish in a resin cube, volumetric lighting, high resolution, hdr, sharpen, Photorealism\n",
      "\n",
      "https://www.blueshadow.art/wp-content/uploads/2022/09/prompt08.jpg\n",
      "maze, Narrow steep staircase, Old Building, Floating buildings, Urban, City rain, art by miyazaki and Ian McQue and Akihiko Yoshida and Katsuya Terada, colorful, trending on artstation, gorgeous, ultra-detailed, realistic, 8k, octane render, hyper detailed, cinematic\n",
      "\n",
      "https://www.blueshadow.art/wp-content/uploads/2023/03/prompt74.jpg\n",
      "Extreme close up of an eye that is the mirror of the nostalgic moments, nostalgia expression, sad emotion, tears, made with imagination, detailed, photography, 8k, printed on Moab Entrada Bright White Rag 300gsm, Leica M6 TTL, Leica 75mm 2.0 Summicron-M ASPH, Cinestill 800T\n",
      "\n",
      "https://www.blueshadow.art/wp-content/uploads/2023/03/prompt76.jpg\n",
      "Midjourney prompt : abstract image, Bauhaus style, 3D, phages, black, white, red and blue, 8K\n",
      "\n",
      "https://www.blueshadow.art/wp-content/uploads/2022/09/prompt11.jpg\n",
      "curved building facade made from transparent smooth and endless fluidity style parametric future architecture, concept art, highly detailed, beautiful scenery, cinematic, beautiful light, hyperreal, octane render, hdr, long exposure, 8K, realistic, fog, moody, gopro\n",
      "\n",
      "https://www.blueshadow.art/wp-content/uploads/2022/09/prompt12.jpg\n",
      "a moody foggy environment inside a curvilinear space looking up at a tall open oculus with light filtering down, back-lit uplit, unreal engine\n",
      "\n",
      "https://www.blueshadow.art/wp-content/uploads/2023/03/prompt13.jpg\n",
      "Spectacular Tiny World in the Transparent Jar On the Table, interior of the Great Hall, Elaborate, Carved Architecture, Anatomy, Symetrical, Geometric and Parameteric Details, Precision Flat line Details, Pattern, Dark fantasy, Dark errie mood and ineffably mysterious mood, Technical design, Intricate Ultra Detail, Ornate Detail, Stylized and Futuristic and Biomorphic Details, Architectural Concept, Low contrast Details, Cinematic Lighting, 8k, by moebius, Fullshot, Epic, Fullshot, Octane render, Unreal ,Photorealistic, Hyperrealism\n",
      "\n",
      "https://www.blueshadow.art/wp-content/uploads/2023/03/prompt14.jpg\n",
      "a cover photography, body and face photo, a beautiful young woman covered in water and liquid, clothes old and ragged, half buried on trash and garbage, hyper realistic, model photography, 500px poses, detailed, intricate\n",
      "\n",
      "https://www.blueshadow.art/wp-content/uploads/2023/03/prompt15.jpg\n",
      "an egg covered in a highly intricate filligree pattern in different coours extreme detail photographic quality\n",
      "\n",
      "https://www.blueshadow.art/wp-content/uploads/2023/03/prompt16.jpg\n",
      "ontrasting liquid transparent wings of a beautiful fantasy darkness butterfly highly detailed, intricate design, intricate detail, hyper realistic, high definition, extremely detailed, ultra realistic, cinematic lighting. uhd 3d, vray render, cinematic, HDR, photorealistic, 8k\n",
      "\n",
      "https://www.blueshadow.art/wp-content/uploads/2023/03/prompt17.jpg\n",
      "double exposure of full portrait of a detailed skull & mushroom hybrid, mossy scales, dark environment, mushroom scales, forest god, bright eyes, sharp fangs and big horns finely detailed, surrounded by forest, cinematic lighting, 4k, 8k, unreal engine 5, octane render\n",
      "\n",
      "https://www.blueshadow.art/wp-content/uploads/2023/03/prompt18.jpg\n",
      "anthropomorphic profile of the white snow owl Crystal priestess , art deco painting, pretty and expressive eyes, ornate costume, mythical, ethereal, intricate, elaborate, hyperrealism, hyper detailed, 3D, 8K, Ultra Realistic, high octane, ultra resolution, amazing detail, perfection, In frame, photorealistic, cinematic lighting, visual clarity, shading , Lumen Reflections, Super-Resolution, gigapixel, color grading, retouch, enhanced, PBR, Blender, V-ray, Procreate, zBrush, Unreal Engine 5, cinematic, volumetric, dramatic, neon lighting, wide angle lens ,no digital painting blur\n",
      "\n",
      "https://www.blueshadow.art/wp-content/uploads/2023/03/prompt19.jpg\n",
      "The parametric hotel lobby is a sleek and modern space with plenty of natural light. The lobby is spacious and open with a variety of seating options. The front desk is a sleek white counter with a parametric design. The walls are a light blue color with parametric patterns. The floor is a light wood color with a parametric design. There are plenty of plants and flowers throughout the space. The overall effect is a calm and relaxing space. occlusion, moody, sunset, concept art, octane rendering, 8k, highly detailed, concept art, highly detailed, beautiful scenery, cinematic, beautiful light, hyperreal, octane render, hdr, long exposure, 8K, realistic, fog, moody, fire and explosions, smoke, 50mm f2.8\n",
      "\n",
      "https://www.blueshadow.art/wp-content/uploads/2022/09/prompt20.jpg\n",
      "albino girl wrapped in kelp algae seaweeds in a white minimalist room, theatrical lighting\n",
      "\n",
      "https://www.blueshadow.art/wp-content/uploads/2023/03/prompt21.jpg\n",
      "Midjourney prompts : happy marshmallows, in style of adventure time, intricate detail, concept art\n",
      "\n",
      "https://www.blueshadow.art/wp-content/uploads/2023/03/prompt22.jpg\n",
      "tree of life intricate, leaf fractal structure, ethereal, fractalpunk, octane render, unreal engine, blender render, immersive detail, enhanced quality\n",
      "\n",
      "https://www.blueshadow.art/wp-content/uploads/2023/03/prompt23.jpg\n",
      "Hyper real glass flowers, blue organic twisting. octane render, unreal engine, blender render, immersive detail, enhanced quality\n",
      "\n",
      "https://www.blueshadow.art/wp-content/uploads/2022/10/prompt24.jpg\n",
      "close-up little cute ginger syberian cat, full body, front facing, samurai armor, anthropomorphic, soft cinematic lighting, 8k\n",
      "\n",
      "https://www.blueshadow.art/wp-content/uploads/2022/10/prompt25.jpg\n",
      "yellow FIAT 500 Cinquecento 1957 driving through liechtenstein castle with a lot of banknotes scattered behind ,filled with wads of cash , car color yellow, license plate R-33\n",
      "\n",
      "https://www.blueshadow.art/wp-content/uploads/2022/10/prompt26.jpg\n",
      "belle epoque, christmas, red house in the forest, photo realistic, 8k \n",
      "\n",
      "https://www.blueshadow.art/wp-content/uploads/2022/10/prompt27.jpg\n",
      "man in a ruin of an ancient city invaded by the jungle, light, unreal engine 5 and Octane Render,highly detailed, photorealistic, cinematic\n",
      "\n",
      "https://www.blueshadow.art/wp-content/uploads/2022/10/prompt28.jpg\n",
      "tented resort in the desert, rocky and sandy terrain, 5 star hotel, beautiful landscape, landscape photography, depth of view, Fujifilm GFX 100 –uplight\n",
      "\n",
      "https://www.blueshadow.art/wp-content/uploads/2022/10/prompt29.jpg\n",
      "graffiti art of cartoon Frankenstein monster, elaborate acrylic spray paint by Yoji shinkawa + nick Edwards style with bold brushstrokes, romantic, glazing, orange, green, yellow, white\n",
      "\n",
      "https://www.blueshadow.art/wp-content/uploads/2022/10/prompt30.jpg\n",
      "an artist desk full of drawings from the hobbit – colourful – paint spilled – brushes, pencils – high quality – 16k resolution\n",
      "\n",
      "https://www.blueshadow.art/wp-content/uploads/2022/10/prompt31.jpg\n",
      "A white color house, wood joinery style house. high end, custom home, glass, columns, one floor, big deck, terrace, , tropical island, front view, Tom Kundig architect, daylight time, palm trees architecture. Beautiful natural wildflower lawn. Expensive, trending on archdaily, dezeen. Photorealistic, 8k, architectural photography\n",
      "\n",
      "https://www.blueshadow.art/wp-content/uploads/2022/10/prompt32.jpg\n",
      "cyberpunk girl in jacket, colorful tattoos, harlequin cyberpunk, highly detailed, Anna-Lou Leibovitz, dark environment, neon colors, back lighting, Cinematic scene, Cinematic lighting, movie poster, dramatic color variations, strong contrast lighting, 8K, hypermaximalist, detailed intricate, ray tracing, insane detailse ink illustration\n",
      "\n",
      "https://www.blueshadow.art/wp-content/uploads/2022/10/prompt33.jpg\n",
      "fanatic warrior, portrait, Arabic female, bald, determined, ornamental scars, scifi military armor in black and gold, space opera\n",
      "\n",
      "https://www.blueshadow.art/wp-content/uploads/2022/10/prompt34.jpg\n",
      "daylight going into dusk with light filtering through in the jungle with a Centura, detailed, soft detailed animal fur hyper realistic, colourful flowers and a hyper realistic squirrel\n",
      "\n",
      "https://www.blueshadow.art/wp-content/uploads/2022/10/prompt35.jpg\n",
      "Shells washed up on the beach、glitter、cinematic lighting,Unreal Engine、hyper quality、 soft studio lighting, octane render, hyper detailed, volumetric lighting, global illumination, detailed and intricate environment, 8k\n",
      "\n",
      "https://www.blueshadow.art/wp-content/uploads/2022/10/prompt36.jpg\n",
      "giant armored mammoth, full body, two large tusk, four legs, large trunk, realistic, hyper detailed –q 2 –chaos 50\n",
      "\n",
      "https://www.blueshadow.art/wp-content/uploads/2022/11/prompt37.jpg\n",
      "intricate knitted running shoe, product photography, octane, volumetric lighting –v 4\n",
      "\n",
      "https://www.blueshadow.art/wp-content/uploads/2022/11/prompt38.jpg\n",
      "a melting apple –v 4\n",
      "\n",
      "https://www.blueshadow.art/wp-content/uploads/2022/11/prompt39.jpg\n",
      "Samus Aran as anime mechgirl, anime mech, front view, detaild body, detaild face, 200mm, by AIC PLUS+, highly detailed cel anime art, Anime, 16k, high quality Real cg cartoon –v 4\n",
      "\n",
      "https://www.blueshadow.art/wp-content/uploads/2022/11/prompt40.jpg\n",
      "digital photographic render of full view fuchikoma-assault-android –v 4\n",
      "\n",
      "https://www.blueshadow.art/wp-content/uploads/2023/01/prompt41.jpg\n",
      "twin girls and fawn in moonlit snowy forest by Ray Caesar –v 4\n",
      "\n",
      "https://www.blueshadow.art/wp-content/uploads/2023/01/prompt42.jpg\n",
      "curve roof, parametric architecture design, architecture, futuristic art performing center –v 4 \n",
      "\n",
      "https://www.blueshadow.art/wp-content/uploads/2023/01/prompt43.jpg\n",
      "character design, cyborg shadowrunner watching arm decompose into cybernetic tentacles in the style of live action movie version of appleseed –v 4\n",
      "\n",
      "https://www.blueshadow.art/wp-content/uploads/2023/01/prompt44.jpg\n",
      "humanoid android, covered in white porcelain skin, blue eyes, white wispy ghost wearing ornate armour 4k realistic fantasy, insane details, ghost phantom effect, hyper detailed, photoreal, photography, cinematic lighting, hdr, hd, cinematography, realism, fine art digital, HD, Mark Molnar mystical, redshift rendering, 8k –v 4\n",
      "\n",
      "https://www.blueshadow.art/wp-content/uploads/2023/01/prompt45.jpg\n",
      "Beautiful Impressionist painting of a dark dramatic character, Fusion between Jeremy Mann and Marta Dahlig and Daniel F Gerhartz, Annie Leibovitz, Long shot –v 4\n",
      "\n",
      "https://www.blueshadow.art/wp-content/uploads/2023/01/prompt46.jpg\n",
      "clowngirl, weird, beautiful, dark, amazing details, hyper real photograph – –v 4\n",
      "\n",
      "https://www.blueshadow.art/wp-content/uploads/2023/01/prompt47.jpg\n",
      "unbearable creativity of fashion in vantablack colors and red accents, ninja –v 4\n",
      "\n",
      "https://www.blueshadow.art/wp-content/uploads/2023/01/prompt48.jpg\n",
      "a close up of a helmet on a person, digital art, inspired by Han Gan, cloisonnism, female, victorian armor, ultramarine, best of behance, anton fadeev 8 k, fined detail, sci-fi character, elegant armor, fantasy art behance –v 4\n",
      "\n",
      "https://www.blueshadow.art/wp-content/uploads/2023/01/prompt49.jpg\n",
      "a mini golden doodle in space marine armour, chibi –v 4\n",
      "\n",
      "https://www.blueshadow.art/wp-content/uploads/2023/01/prompt50.jpg\n",
      "photo of a gorgeous blonde succubuss attractive in light gold and white intricate metallic armor revealing hot attractive body , desire, celestial palace hyperdetailed hyperrealistic –v 4 \n",
      "\n",
      "https://www.blueshadow.art/wp-content/uploads/2023/01/prompt51.jpg\n",
      "nostalgic diner1930 era –v 4\n",
      "\n",
      "https://www.blueshadow.art/wp-content/uploads/2023/01/prompt52.jpg\n",
      "crescent moon , shiny metal and glass sphere, rococo –v 4\n",
      "\n",
      "https://www.blueshadow.art/wp-content/uploads/2023/01/prompt53.jpg\n",
      "See the PREMIUM OFFER\n",
      "\n",
      "https://www.blueshadow.art/wp-content/uploads/2023/01/prompt54.jpg\n",
      "abstract, Indie aesthetic, HDR –q 5 –upbeta –v 4 –s 1000\n",
      "\n",
      "https://www.blueshadow.art/wp-content/uploads/2023/01/prompt55.jpg\n",
      "lemon queen of Kyoto astronaut futuristic yellow makeup hyper realistic cinematic full body shot fashion photography –v 4\n",
      "\n",
      "https://www.blueshadow.art/wp-content/uploads/2023/01/prompt56.jpg\n",
      "Firefly bacteria ghostly glow armour spacesuit on the surface of Europa\n",
      "\n",
      "https://www.blueshadow.art/wp-content/uploads/2023/01/prompt57.jpg\n",
      "A cute little bacteria ghost from the planet Europa\n",
      "\n",
      "https://www.blueshadow.art/wp-content/uploads/2023/01/prompt58.jpg\n",
      "Australian Terrier\n",
      "\n",
      "https://www.blueshadow.art/wp-content/uploads/2023/01/prompt59.jpg\n",
      "flying robot koi fish with armour plating, neon glowing eyes and wiring, 4k, unreal engine, marvel comics style\n",
      "\n",
      "https://www.blueshadow.art/wp-content/uploads/2023/01/prompt60.jpg\n",
      "Filugree gold Cute and cute rabbit\n",
      "\n",
      "https://www.blueshadow.art/wp-content/uploads/2023/01/prompt61.jpg\n",
      "CCCXXVII on 329 on name plate of rolleiflex camera architecture with seikosha shutter style of Sandu Baciu, hyper realistic, film camera, cover magazine, award\n",
      "\n",
      "https://www.blueshadow.art/wp-content/uploads/2023/01/prompt62.jpg\n",
      "Walking the cobblestone road of an ancient Dieselpunk jungle village, vibrant, lovely, Anime scenery, Cell shaded, Fantasy, River, steps, Stylized, Cottagecore, Villagecore, Volumetric lighting, Beautiful lighting, Intricate detail, Chiaroscuro\n",
      "\n",
      "https://www.blueshadow.art/wp-content/uploads/2023/01/prompt63.jpg\n",
      "ghostpunk\n",
      "\n",
      "https://www.blueshadow.art/wp-content/uploads/2023/01/prompt64.jpg\n",
      "Astroid crashing into Earth\n",
      "\n",
      "https://www.blueshadow.art/wp-content/uploads/2023/01/prompt65.jpg\n",
      "long universe dress with gold filigree, telescope photography, 8k, realistic, intricate details, hyperrealistic, 22 megapixel, cinematic, glamor shot\n",
      "\n",
      "https://www.blueshadow.art/wp-content/uploads/2023/01/prompt66.jpg\n",
      "nature vs human nature, surreal, UHD, HDR, 8K, hyper details, rich colors, photograph\n",
      "\n",
      "https://www.blueshadow.art/wp-content/uploads/2023/01/prompt67.jpg\n",
      "lion face made from most complex unimaginable spirals with unimaginable fractals universe made from exploding ethereal glass quantum particles voxels in infinity dimensions covered by complex sacred geometry, textured abstract\n",
      "\n",
      "https://www.blueshadow.art/wp-content/uploads/2023/01/prompt68.jpg\n",
      "dragon woman brown skin asian eyes silver scales, high detail\n",
      "\n",
      "https://www.blueshadow.art/wp-content/uploads/2023/01/prompt69.jpg\n",
      "by Zena Holloway, galaxy in a sunflower, painting of a sunflower that contains an entire detailed galaxy within it\n",
      "\n",
      "https://www.blueshadow.art/wp-content/uploads/2023/01/prompt70.jpg\n",
      "lungs made of smoke\n",
      "\n",
      "https://www.blueshadow.art/wp-content/uploads/2023/01/prompt71.jpg\n",
      "award winning contemporary architecture tower inspired by wathaurong indigenous art, designed by thomas heatherwick and kengo kuma\n",
      "\n",
      "https://www.blueshadow.art/wp-content/uploads/2023/01/prompt72.jpg\n",
      "india restaurant making samosa very tasty\n",
      "\n",
      "https://www.blueshadow.art/wp-content/uploads/2023/03/prompt77.jpg\n",
      "Super cute trendy little girl, delicate features, solid color background, IP, 3d, c4d, 8k, OC renderer,blind box, best quality, cinematic lighting, light and dark contrast, detail art, uhd, cartoon star hair accessories\n",
      "\n",
      "https://www.blueshadow.art/wp-content/uploads/2023/03/prompt78.jpg\n",
      "A kid on top of a ladder looking at the magical town going to sleep, vivid, night, colorful lighting,realistic\n",
      "\n",
      "https://www.blueshadow.art/wp-content/uploads/2023/03/prompt79.jpg\n",
      "Alien planet, white planet, lots of alien skyscrapers, space waships on the sky, bird eye view\n",
      "\n",
      "https://www.blueshadow.art/wp-content/uploads/2023/03/prompt80.jpg\n",
      "Beautiful cyborg princess looking out over her lands from a tall tower, league of legends, long legs, belly dancer, high heels, intricate detail, cyberpunk Japan, futuristic, clean sharp focus\n",
      "\n",
      "https://www.blueshadow.art/wp-content/uploads/2023/03/prompt81.jpg\n",
      "Mural Painted of Prince in Purple Rain on side of 5 story brick building next to zen garden vacant lot in the urban center district, rgb \n",
      "\n",
      "https://www.blueshadow.art/wp-content/uploads/2023/03/prompt82.jpg\n",
      "beautiful woman sniper, wearing soviet army uniform, one eye on sniper lens, in snow ground\n",
      "\n",
      "https://www.blueshadow.art/wp-content/uploads/2023/03/prompt83.jpg\n",
      "Editorial photoshoot of a old woman, high fashion 2000s fashion\n",
      "\n",
      "https://www.blueshadow.art/wp-content/uploads/2023/03/prompt84.jpg\n",
      "A very attractive and natural woman, sitting on a yoka mat, breathing, eye closed, no make up, intense satisfaction, she looks like she is intensely relaxed, yoga class, sunrise, 35mm, F1: 4\n",
      "\n",
      "https://www.blueshadow.art/wp-content/uploads/2023/03/prompt85.jpg\n",
      "A New Zealand female business owner stands and is happy that his business is growing by having good VoIP and broadband supplied by Voyager Internet. This business owner is dressed semi casual and is standing with a funky office space in the background. The image is light and bright and is well lit. This image needs to be shot like a professional photo shoot using a Canon R6 with high quality 25mm lens. This image has a shallow depth of field\n",
      "\n",
      "https://www.blueshadow.art/wp-content/uploads/2023/03/prompt86.jpg\n",
      "Baby sitting in a poppy field\n",
      "\n",
      "https://www.blueshadow.art/wp-content/uploads/2023/03/prompt87.jpg\n",
      "Outdoor style fashion photo, full – body shot of a man with short brown hair, happy and smiling, he is standing on his hipster bicycle wearing a light blue long sleeved blouse with closed buttons and dark blue jeans trousers, in the background the exterior of an Aldi store, fully lit background, natural afternoon lighting\n",
      "\n",
      "https://www.blueshadow.art/wp-content/uploads/2023/03/prompt88.jpg\n",
      "A close up of a branch of a tree and a golden bug on the top a leaf, shutterstock contest winner,ecological art, depth of field, shallow depth of field, macro photography \n",
      "\n",
      "https://www.blueshadow.art/wp-content/uploads/2023/03/prompt89.jpg\n",
      "Delicious salad sony alpha a7r IV food photograpy style, macro lens, close up shot 50mm f/ 1, 4 \n",
      "\n",
      "https://www.blueshadow.art/wp-content/uploads/2023/03/prompt90.jpg\n",
      "A fisherman fixing his net sitting on a beautiful tropical beach at sunset with bending palm trees fishing gear and a small boat on shore\n",
      "\n",
      "https://www.blueshadow.art/wp-content/uploads/2023/03/prompt91.jpg\n",
      "Inside an architecture made out of colorful linnen, elegant, blue color pallet\n",
      "\n",
      "https://www.blueshadow.art/wp-content/uploads/2023/03/prompt92.jpg\n",
      "Coast, decorative painting, horizon, modern, fashionable, full of abstract feeling, full of imagination, the picture reveals the sense of time passing, there is a feeling of the end of the world\n",
      "\n",
      "https://www.blueshadow.art/wp-content/uploads/2023/03/prompt96.jpg\n",
      "A beautiful female fighter performs a beautiful move with one sword, full body, dress, bright yellow aura, galaxy background, look at camera, Ancient Chinese style, cinematic, 8k\n",
      "\n",
      "https://www.blueshadow.art/wp-content/uploads/2023/03/prompt95.jpg\n",
      "Black cat with a small white heart patch on its chest with glasses, chibi, anthropomorphic character, full front body, professional colour grading, soft shadows, no contrast, clean sharp focus, light background, film photography, photorealistic\n",
      "\n",
      "https://www.blueshadow.art/wp-content/uploads/2023/03/prompt94.jpg\n",
      "Chinese illustration on blue background, auspicious clouds, 16k, 3d, pastel, ravine stream, boat,  pine tree, mountain range, Many houses, Many ancient buildings, multi dimensional paper quilling, Tunnel composition, warm light, uhd, elevation perspective，ultra realistic, morandi color, exquisite details, an expansive view of, epic detail\n",
      "\n",
      "https://www.blueshadow.art/wp-content/uploads/2023/03/prompt93.jpg\n",
      "Candy world Disney land ethereal soft fluffy soft landscape forest snow avatar Pastel pink sky green blue sparkle ethereal light pastel whimsical light rainbow stars diamonds sparkle gemstone background hyper realistic Ultra quality cinematic lighting immense detail Full hd painting Well lit\n",
      "\n",
      "https://www.blueshadow.art/wp-content/uploads/2023/03/prompt97.jpg\n",
      "Realistic 3d render of a happy, furry and cute yellow and blue bird smiling with big eyes looking straight at you. Pixar style. 32k full body shot with a light turquoise background\n",
      "\n",
      "https://www.blueshadow.art/wp-content/uploads/2023/03/prompt98.jpg\n",
      "Full Violin instrument rococo’s style, elegant, gothic, renaissance, pastel colors, symmetric, baroque, Nikon shot photography, 200mm, HD\n",
      "\n",
      "https://www.blueshadow.art/wp-content/uploads/2023/03/prompt99.jpg\n",
      "Isometric, photography, photorealistic, The trend of the elements of Taipei night market, people are wandering around, 3d icon clay render, Adjust the size scale of the character according to the environment, octane render, 32 k\n",
      "\n",
      "https://www.blueshadow.art/wp-content/uploads/2023/03/prompt100.jpg\n",
      "32 – bit pixelated future Hiphop producer in glowing power street ware, noriyoshi ohrai, in the style of minecraft tomer hanuka\n",
      "\n",
      "https://www.blueshadow.art/wp-content/uploads/2023/03/prompt101.jpg\n",
      "selfie of a woman and her lion cub on the plains\n",
      "\n",
      "https://www.blueshadow.art/wp-content/uploads/2023/03/prompt102.jpg\n",
      "Scifi ui interface hud, Scifi ui interface hud, Portrait, Robotics Mecha Warrior with Mirror Mecha, Reflection in Mirror Armor, Mirror Tech Helmet, Neon Goggles, Punk Cyber, Movie Lighting, Backlight, Photo Reality, Aurora\n",
      "\n",
      "https://www.blueshadow.art/wp-content/uploads/2023/03/prompt103.jpg\n",
      "Minimalist digital drawing cute woodland bear on white background, whole body, friendly face\n",
      "\n",
      "https://www.blueshadow.art/wp-content/uploads/2023/03/prompt104.jpg\n",
      "Frog, in forest, colorful, no watermark, no signature, in forest, 8k\n",
      "\n",
      "https://www.blueshadow.art/wp-content/uploads/2023/04/prompt110.jpg\n",
      "very expensive cult restaurant booking app, green and gold, mobile app, user interface, Figma, HQ, 4K, clean UI q 5\n",
      "\n",
      "https://www.blueshadow.art/wp-content/uploads/2023/04/prompt111.jpg\n",
      "Street style centered straight shot photo shot on Afga Vista 400, lense 50mm, of a two women,skin to skin touch face, emotion, hughing, natural blond hair, natural features, ultra detailed, skin texture, Rembrandt light, soft shadows\n",
      "\n",
      "https://www.blueshadow.art/wp-content/uploads/2023/04/prompt113.jpg\n",
      "modern living room minimalistic, marble, white and black, architectural, living room with kitchen colour palette in barcelona Colors palettes aesthetic, details in yellow and teal, sharp graphic, photorealistic, 8 k, bright, octane render, unreal engine, low contrasted, 8k\n",
      "\n",
      "https://www.blueshadow.art/wp-content/uploads/2023/04/prompt112.jpg\n",
      "stair with tornado in centre\n",
      "\n",
      "https://www.blueshadow.art/wp-content/uploads/2023/04/prompt109.jpg\n",
      "water, flow, dreams, universe, watercolor\n",
      "\n",
      "https://www.blueshadow.art/wp-content/uploads/2023/04/prompt121.jpg\n",
      "cameroon bamileke 432hz mansion entry foyer curved staircase art deco futuristic baroque architecture glass interior design love\n",
      "\n",
      "https://www.blueshadow.art/wp-content/uploads/2023/04/prompt120.jpg\n",
      "Cozy Scandinavian living room, there is a cat sleeping on the couch, depth of field\n",
      "\n",
      "https://www.blueshadow.art/wp-content/uploads/2023/04/prompt118.jpg\n",
      "Design a sophisticated, yet playful SaaS-style gradient font logo for « P-Textile, » using shades of green and white, with the « PT » overlapping in a shape reminiscent of a tree, featuring thin, elegant lines with a slight curve. Render as a vector illustration, placed in the corner of a website header on a light gray background with a gentle \n",
      "\n",
      "https://www.blueshadow.art/wp-content/uploads/2023/04/prompt115.jpg\n",
      "Mascot design, character design, draft character, game character draft, three viewsFront, side,back angles of Uncle Red, crowned Crane, Wearing glasses, smiling. drawing. three dimensional Cartoon Style\n",
      "\n",
      "https://www.blueshadow.art/wp-content/uploads/2023/04/prompt119.jpg\n",
      "cute winter dragon baby, kawaii, Pixar, ultra detailed, glacial background, extremely realistic\n",
      "\n",
      "https://www.blueshadow.art/wp-content/uploads/2023/04/prompt117.jpg\n",
      "Full – body portraits in 3D, shot straight ahead. A cartoon boy is walking in a downtown area, a few cute birds and butterflies circle around him, his shoes are covered with mud, the overall color is soft, gradient color, Unreal Engine 5 subsurface scattering, Pixar style, Disney style, 8k, the picture is well lit, large production \n",
      "\n",
      "https://www.blueshadow.art/wp-content/uploads/2023/04/prompt125.jpg\n",
      "Tattoo of a human face wearing a massive aztec headdress. With hyper intricate war paint on it’s face, detailed texture, vibrant colors, black background, hyper realistic, 8K\n",
      "\n"
     ]
    }
   ],
   "source": [
    "count = 0\n",
    "for i, div in enumerate(div_list):\n",
    "#     if i==8:\n",
    "#         break\n",
    "    element_list = div.find_all(\"div\", {\"class\":\"wpb_column vc_column_container vc_col-sm-3\"})\n",
    "    if len(element_list) ==0:\n",
    "        continue\n",
    "#     print(len(element_list))\n",
    "    count +=1\n",
    "    for element in element_list:\n",
    "        img_url = element.find(\"img\")[\"src\"]\n",
    "        try:\n",
    "            prompt = element.find(\"p\").text\n",
    "            prompt = prompt.split(\"Prompts : \")[-1]\n",
    "            prompt = prompt.split(\"Midjourney prompts : \")[-1]\n",
    "            prompt = prompt.split(\"Midjourney prompts (V5) : \")[-1]\n",
    "            prompt = prompt.split(\"Midjourney prompts (V4) : \")[-1]\n",
    "            df.loc[len(df)] = [prompt, img_url]\n",
    "        except:\n",
    "            break\n",
    "        \n",
    "        \n",
    "        print(img_url)\n",
    "        print(prompt)\n",
    "#         print(element)\n",
    "        print()"
   ]
  },
  {
   "cell_type": "code",
   "execution_count": 62,
   "id": "45578e3b",
   "metadata": {},
   "outputs": [
    {
     "data": {
      "text/html": [
       "<div>\n",
       "<style scoped>\n",
       "    .dataframe tbody tr th:only-of-type {\n",
       "        vertical-align: middle;\n",
       "    }\n",
       "\n",
       "    .dataframe tbody tr th {\n",
       "        vertical-align: top;\n",
       "    }\n",
       "\n",
       "    .dataframe thead th {\n",
       "        text-align: right;\n",
       "    }\n",
       "</style>\n",
       "<table border=\"1\" class=\"dataframe\">\n",
       "  <thead>\n",
       "    <tr style=\"text-align: right;\">\n",
       "      <th></th>\n",
       "      <th>PROMPT</th>\n",
       "      <th>IMAGE_URL</th>\n",
       "    </tr>\n",
       "  </thead>\n",
       "  <tbody>\n",
       "    <tr>\n",
       "      <th>0</th>\n",
       "      <td>Anthropomorphic majestic blobfish knight, port...</td>\n",
       "      <td>https://www.blueshadow.art/wp-content/uploads/...</td>\n",
       "    </tr>\n",
       "    <tr>\n",
       "      <th>1</th>\n",
       "      <td>big labyrinth, escher like, ornaments, hedges,...</td>\n",
       "      <td>https://www.blueshadow.art/wp-content/uploads/...</td>\n",
       "    </tr>\n",
       "    <tr>\n",
       "      <th>2</th>\n",
       "      <td>Mystic Old Male Warrior, Concept Character, po...</td>\n",
       "      <td>https://www.blueshadow.art/wp-content/uploads/...</td>\n",
       "    </tr>\n",
       "    <tr>\n",
       "      <th>3</th>\n",
       "      <td>tiny cute adorable ginger tabby kitten studio ...</td>\n",
       "      <td>https://www.blueshadow.art/wp-content/uploads/...</td>\n",
       "    </tr>\n",
       "    <tr>\n",
       "      <th>4</th>\n",
       "      <td>a quasar forms at the end of a long hallway + ...</td>\n",
       "      <td>https://www.blueshadow.art/wp-content/uploads/...</td>\n",
       "    </tr>\n",
       "    <tr>\n",
       "      <th>...</th>\n",
       "      <td>...</td>\n",
       "      <td>...</td>\n",
       "    </tr>\n",
       "    <tr>\n",
       "      <th>107</th>\n",
       "      <td>Design a sophisticated, yet playful SaaS-style...</td>\n",
       "      <td>https://www.blueshadow.art/wp-content/uploads/...</td>\n",
       "    </tr>\n",
       "    <tr>\n",
       "      <th>108</th>\n",
       "      <td>Mascot design, character design, draft charact...</td>\n",
       "      <td>https://www.blueshadow.art/wp-content/uploads/...</td>\n",
       "    </tr>\n",
       "    <tr>\n",
       "      <th>109</th>\n",
       "      <td>cute winter dragon baby, kawaii, Pixar, ultra ...</td>\n",
       "      <td>https://www.blueshadow.art/wp-content/uploads/...</td>\n",
       "    </tr>\n",
       "    <tr>\n",
       "      <th>110</th>\n",
       "      <td>Full – body portraits in 3D, shot straight ahe...</td>\n",
       "      <td>https://www.blueshadow.art/wp-content/uploads/...</td>\n",
       "    </tr>\n",
       "    <tr>\n",
       "      <th>111</th>\n",
       "      <td>Tattoo of a human face wearing a massive aztec...</td>\n",
       "      <td>https://www.blueshadow.art/wp-content/uploads/...</td>\n",
       "    </tr>\n",
       "  </tbody>\n",
       "</table>\n",
       "<p>112 rows × 2 columns</p>\n",
       "</div>"
      ],
      "text/plain": [
       "                                                PROMPT  \\\n",
       "0    Anthropomorphic majestic blobfish knight, port...   \n",
       "1    big labyrinth, escher like, ornaments, hedges,...   \n",
       "2    Mystic Old Male Warrior, Concept Character, po...   \n",
       "3    tiny cute adorable ginger tabby kitten studio ...   \n",
       "4    a quasar forms at the end of a long hallway + ...   \n",
       "..                                                 ...   \n",
       "107  Design a sophisticated, yet playful SaaS-style...   \n",
       "108  Mascot design, character design, draft charact...   \n",
       "109  cute winter dragon baby, kawaii, Pixar, ultra ...   \n",
       "110  Full – body portraits in 3D, shot straight ahe...   \n",
       "111  Tattoo of a human face wearing a massive aztec...   \n",
       "\n",
       "                                             IMAGE_URL  \n",
       "0    https://www.blueshadow.art/wp-content/uploads/...  \n",
       "1    https://www.blueshadow.art/wp-content/uploads/...  \n",
       "2    https://www.blueshadow.art/wp-content/uploads/...  \n",
       "3    https://www.blueshadow.art/wp-content/uploads/...  \n",
       "4    https://www.blueshadow.art/wp-content/uploads/...  \n",
       "..                                                 ...  \n",
       "107  https://www.blueshadow.art/wp-content/uploads/...  \n",
       "108  https://www.blueshadow.art/wp-content/uploads/...  \n",
       "109  https://www.blueshadow.art/wp-content/uploads/...  \n",
       "110  https://www.blueshadow.art/wp-content/uploads/...  \n",
       "111  https://www.blueshadow.art/wp-content/uploads/...  \n",
       "\n",
       "[112 rows x 2 columns]"
      ]
     },
     "execution_count": 62,
     "metadata": {},
     "output_type": "execute_result"
    }
   ],
   "source": [
    "df"
   ]
  },
  {
   "cell_type": "code",
   "execution_count": 71,
   "id": "610e2399",
   "metadata": {},
   "outputs": [],
   "source": [
    "driver.quit()"
   ]
  },
  {
   "cell_type": "code",
   "execution_count": 63,
   "id": "9276a525",
   "metadata": {},
   "outputs": [],
   "source": [
    "df.to_csv(\"data_blueshadow.csv\")"
   ]
  },
  {
   "cell_type": "code",
   "execution_count": 22,
   "id": "5892c8b4",
   "metadata": {},
   "outputs": [
    {
     "ename": "AttributeError",
     "evalue": "'WebDriver' object has no attribute 'find_elements_by_tag_name'",
     "output_type": "error",
     "traceback": [
      "\u001b[0;31m---------------------------------------------------------------------------\u001b[0m",
      "\u001b[0;31mAttributeError\u001b[0m                            Traceback (most recent call last)",
      "Cell \u001b[0;32mIn[22], line 1\u001b[0m\n\u001b[0;32m----> 1\u001b[0m links \u001b[38;5;241m=\u001b[39m \u001b[43mdriver\u001b[49m\u001b[38;5;241;43m.\u001b[39;49m\u001b[43mfind_elements_by_tag_name\u001b[49m(\u001b[38;5;124m\"\u001b[39m\u001b[38;5;124ma\u001b[39m\u001b[38;5;124m\"\u001b[39m)\n",
      "\u001b[0;31mAttributeError\u001b[0m: 'WebDriver' object has no attribute 'find_elements_by_tag_name'"
     ]
    }
   ],
   "source": [
    "links = driver.find_elements_by_tag_name(\"a\")"
   ]
  },
  {
   "cell_type": "code",
   "execution_count": 68,
   "id": "e964eb23",
   "metadata": {},
   "outputs": [],
   "source": [
    "from selenium import webdriver\n",
    "from selenium.webdriver.common.by import By\n",
    "from selenium_stealth import stealth\n",
    "url = \"https://prompthero.com/midjourney-prompts\"\n",
    "driver = webdriver.Chrome()\n",
    "stealth(driver,\n",
    "            languages=[\"en-US\", \"en\"],\n",
    "            vendor=\"Google Inc.\",\n",
    "            platform=\"Win32\",\n",
    "            webgl_vendor=\"Intel Inc.\",\n",
    "            renderer=\"Intel Iris OpenGL Engine\",\n",
    "            fix_hairline=True,\n",
    "            )\n"
   ]
  },
  {
   "cell_type": "code",
   "execution_count": 69,
   "id": "3f3dfb79",
   "metadata": {},
   "outputs": [
    {
     "name": "stdout",
     "output_type": "stream",
     "text": [
      "Just a moment...\n"
     ]
    }
   ],
   "source": [
    "driver.get(url)\n",
    "\n",
    "print(driver.title)"
   ]
  },
  {
   "cell_type": "code",
   "execution_count": 90,
   "id": "7f758a60",
   "metadata": {},
   "outputs": [],
   "source": [
    "import undetected_chromedriver as uc\n",
    "from selenium import webdriver\n",
    "\n",
    "options = webdriver.ChromeOptions() \n",
    "options.add_argument(\"start-maximized\")\n",
    "driver = uc.Chrome(options=options)\n",
    "driver.get(url)"
   ]
  },
  {
   "cell_type": "code",
   "execution_count": 93,
   "id": "7d4cb07d",
   "metadata": {},
   "outputs": [
    {
     "name": "stdout",
     "output_type": "stream",
     "text": [
      "12\n"
     ]
    }
   ],
   "source": [
    "element = driver.find_element(By.TAG_NAME, 'html')\n",
    "html = element.get_attribute(\"outerHTML\")\n",
    "soup2 = BeautifulSoup(html, \"html.parser\")\n",
    "div_list2 = soup2.find_all(\"div\", {\"class\": \"grid-item\"})\n",
    "print(len(div_list2))"
   ]
  },
  {
   "cell_type": "code",
   "execution_count": 89,
   "id": "24eb9242",
   "metadata": {},
   "outputs": [
    {
     "data": {
      "text/plain": [
       "420"
      ]
     },
     "execution_count": 89,
     "metadata": {},
     "output_type": "execute_result"
    }
   ],
   "source": [
    "div_list = soup2.find_all(\"div\", {\"class\": \"grid-item\"})\n",
    "len(div_list)"
   ]
  },
  {
   "cell_type": "code",
   "execution_count": 103,
   "id": "6bfd1b70",
   "metadata": {},
   "outputs": [],
   "source": [
    "div = div_list[0]"
   ]
  },
  {
   "cell_type": "code",
   "execution_count": 105,
   "id": "b2f005bd",
   "metadata": {},
   "outputs": [
    {
     "name": "stdout",
     "output_type": "stream",
     "text": [
      "https://prompthero.com/prompt/21706baaf82\n"
     ]
    }
   ],
   "source": [
    "ele = div.find(\"a\", {\"class\": \"prompt-card-a\"})['href']\n",
    "path = os.path.join(url2, ele)\n",
    "path = url2+ele\n",
    "print(path)\n",
    "options2 = webdriver.ChromeOptions() \n",
    "options2.add_argument(\"start-maximized\")\n",
    "driver2 = uc.Chrome(options=options2)\n",
    "driver2.get(path)\n"
   ]
  },
  {
   "cell_type": "code",
   "execution_count": 106,
   "id": "88444a06",
   "metadata": {},
   "outputs": [],
   "source": [
    "element = driver2.find_element(By.TAG_NAME, 'html')\n",
    "html = element.get_attribute(\"outerHTML\")\n",
    "soup3 = BeautifulSoup(html, \"html.parser\")"
   ]
  },
  {
   "cell_type": "code",
   "execution_count": 111,
   "id": "5e942ff1",
   "metadata": {},
   "outputs": [
    {
     "name": "stdout",
     "output_type": "stream",
     "text": [
      "https://storage.googleapis.com/dream-machines-output/a21d76a4-dc99-486f-9994-def7021bd6dd/0_0.png\n"
     ]
    },
    {
     "data": {
      "text/plain": [
       "'\\n\\nethereal Bohemian Waxwing bird,\\n Bombycilla garrulus :: intricate details,\\n ornate,\\n detailed illustration,\\n octane render :: Johanna Rupprecht style,\\n William Morris style :: trending on artstation --ar 9:16\\n\\n'"
      ]
     },
     "execution_count": 111,
     "metadata": {},
     "output_type": "execute_result"
    }
   ],
   "source": [
    "body = soup3.find(\"div\", {\"class\":\"container prompt-show-page\"})\n",
    "img = body.find(\"img\")['src']\n",
    "print(img)\n",
    "prompt = body.find(\"div\", {\"class\":\"the-prompt\"}).text\n",
    "prompt"
   ]
  },
  {
   "cell_type": "code",
   "execution_count": 112,
   "id": "143359b6",
   "metadata": {},
   "outputs": [
    {
     "data": {
      "text/html": [
       "<div>\n",
       "<style scoped>\n",
       "    .dataframe tbody tr th:only-of-type {\n",
       "        vertical-align: middle;\n",
       "    }\n",
       "\n",
       "    .dataframe tbody tr th {\n",
       "        vertical-align: top;\n",
       "    }\n",
       "\n",
       "    .dataframe thead th {\n",
       "        text-align: right;\n",
       "    }\n",
       "</style>\n",
       "<table border=\"1\" class=\"dataframe\">\n",
       "  <thead>\n",
       "    <tr style=\"text-align: right;\">\n",
       "      <th></th>\n",
       "      <th>PROMPT</th>\n",
       "      <th>IMAGE_URL</th>\n",
       "    </tr>\n",
       "  </thead>\n",
       "  <tbody>\n",
       "  </tbody>\n",
       "</table>\n",
       "</div>"
      ],
      "text/plain": [
       "Empty DataFrame\n",
       "Columns: [PROMPT, IMAGE_URL]\n",
       "Index: []"
      ]
     },
     "execution_count": 112,
     "metadata": {},
     "output_type": "execute_result"
    }
   ],
   "source": [
    "import pandas as pd\n",
    "COLUMNS = ['PROMPT','IMAGE_URL']\n",
    "df2 = pd.DataFrame(columns=COLUMNS)\n",
    "df2"
   ]
  },
  {
   "cell_type": "code",
   "execution_count": 115,
   "id": "f89d82b8",
   "metadata": {},
   "outputs": [
    {
     "name": "stdout",
     "output_type": "stream",
     "text": [
      "/prompt/21706baaf82\n",
      "https://prompthero.com/prompt/21706baaf82\n"
     ]
    },
    {
     "ename": "AttributeError",
     "evalue": "'NoneType' object has no attribute 'find'",
     "output_type": "error",
     "traceback": [
      "\u001b[0;31m---------------------------------------------------------------------------\u001b[0m",
      "\u001b[0;31mAttributeError\u001b[0m                            Traceback (most recent call last)",
      "Cell \u001b[0;32mIn[115], line 18\u001b[0m\n\u001b[1;32m     16\u001b[0m     soup3 \u001b[38;5;241m=\u001b[39m BeautifulSoup(html, \u001b[38;5;124m\"\u001b[39m\u001b[38;5;124mhtml.parser\u001b[39m\u001b[38;5;124m\"\u001b[39m)\n\u001b[1;32m     17\u001b[0m \u001b[38;5;66;03m#     body = soup3.find(\" div\", {\"class\":\"container prompt-show-page\"})\u001b[39;00m\n\u001b[0;32m---> 18\u001b[0m     img \u001b[38;5;241m=\u001b[39m \u001b[43mbody\u001b[49m\u001b[38;5;241;43m.\u001b[39;49m\u001b[43mfind\u001b[49m(\u001b[38;5;124m\"\u001b[39m\u001b[38;5;124mimg\u001b[39m\u001b[38;5;124m\"\u001b[39m)[\u001b[38;5;124m'\u001b[39m\u001b[38;5;124msrc\u001b[39m\u001b[38;5;124m'\u001b[39m]\n\u001b[1;32m     20\u001b[0m     prompt \u001b[38;5;241m=\u001b[39m body\u001b[38;5;241m.\u001b[39mfind(\u001b[38;5;124m\"\u001b[39m\u001b[38;5;124mdiv\u001b[39m\u001b[38;5;124m\"\u001b[39m, {\u001b[38;5;124m\"\u001b[39m\u001b[38;5;124mclass\u001b[39m\u001b[38;5;124m\"\u001b[39m:\u001b[38;5;124m\"\u001b[39m\u001b[38;5;124mthe-prompt\u001b[39m\u001b[38;5;124m\"\u001b[39m})\u001b[38;5;241m.\u001b[39mtext\n\u001b[1;32m     21\u001b[0m     prompt\n",
      "\u001b[0;31mAttributeError\u001b[0m: 'NoneType' object has no attribute 'find'"
     ]
    }
   ],
   "source": [
    "import os\n",
    "import time\n",
    "url2 = \"https://prompthero.com\"\n",
    "for div in div_list:\n",
    "    ele = div.find(\"a\", {\"class\": \"prompt-card-a\"})['href']\n",
    "    print(url)\n",
    "    path = os.path.join(url2, ele)\n",
    "    path = url2+ele\n",
    "    print(path)\n",
    "    options2 = webdriver.ChromeOptions() \n",
    "    options2.add_argument(\"start-maximized\")\n",
    "    driver2 = uc.Chrome(options=options2)\n",
    "    driver2.get(path)\n",
    "    element = driver2.find_element(By.TAG_NAME, 'html')\n",
    "    html = element.get_attribute(\"outerHTML\")\n",
    "    soup3 = BeautifulSoup(html, \"html.parser\")\n",
    "#     body = soup3.find(\" div\", {\"class\":\"container prompt-show-page\"})\n",
    "    img = body.find(\"img\")\n",
    "    print(img)\n",
    "    \n",
    "    prompt = body.find(\"div\", {\"class\":\"the-prompt\"}).text\n",
    "    prompt\n",
    "    print(img)\n",
    "    print(prompt)\n",
    "    df2.loc[len(df2)] = [prompt, img]\n",
    "    driver2.quit()\n",
    "    print(\"=================\")\n",
    "    time.sleep(1)\n",
    "#     break"
   ]
  },
  {
   "cell_type": "code",
   "execution_count": null,
   "id": "2b00c542",
   "metadata": {},
   "outputs": [],
   "source": []
  },
  {
   "cell_type": "code",
   "execution_count": null,
   "id": "9d6f42f9",
   "metadata": {},
   "outputs": [],
   "source": []
  },
  {
   "cell_type": "code",
   "execution_count": null,
   "id": "5bbebab2",
   "metadata": {},
   "outputs": [],
   "source": []
  },
  {
   "cell_type": "code",
   "execution_count": null,
   "id": "10c4d325",
   "metadata": {},
   "outputs": [],
   "source": []
  },
  {
   "cell_type": "code",
   "execution_count": null,
   "id": "1ce5ddea",
   "metadata": {},
   "outputs": [],
   "source": []
  },
  {
   "cell_type": "code",
   "execution_count": null,
   "id": "fcfe5f1e",
   "metadata": {},
   "outputs": [],
   "source": []
  }
 ],
 "metadata": {
  "kernelspec": {
   "display_name": "Python 3 (ipykernel)",
   "language": "python",
   "name": "python3"
  },
  "language_info": {
   "codemirror_mode": {
    "name": "ipython",
    "version": 3
   },
   "file_extension": ".py",
   "mimetype": "text/x-python",
   "name": "python",
   "nbconvert_exporter": "python",
   "pygments_lexer": "ipython3",
   "version": "3.10.10"
  }
 },
 "nbformat": 4,
 "nbformat_minor": 5
}
