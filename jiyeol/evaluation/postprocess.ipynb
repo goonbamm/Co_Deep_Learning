{
 "cells": [
  {
   "cell_type": "code",
   "execution_count": 9,
   "metadata": {},
   "outputs": [],
   "source": [
    "import pandas as pd\n",
    "\n",
    "\n",
    "record = pd.read_csv('record.csv', index_col=False)"
   ]
  },
  {
   "cell_type": "code",
   "execution_count": 10,
   "metadata": {},
   "outputs": [],
   "source": [
    "def clean_text(s):\n",
    "    if s[0] == '\\\"':\n",
    "        s = s[1:]\n",
    "    \n",
    "    if s[-1] == '\\\"':\n",
    "        s = s[:-1]\n",
    "    \n",
    "    \n",
    "    if '### Response(응답):' in s:\n",
    "        begin_index = s.find('### Response(응답):') + len('### Response(응답):')\n",
    "        s = s[begin_index:]\n",
    "        \n",
    "    return s"
   ]
  },
  {
   "cell_type": "code",
   "execution_count": 11,
   "metadata": {},
   "outputs": [],
   "source": [
    "for col in record.columns:\n",
    "    record[col] = record[col].apply(lambda x: clean_text(x))"
   ]
  },
  {
   "cell_type": "code",
   "execution_count": 12,
   "metadata": {},
   "outputs": [],
   "source": [
    "record.to_csv('record.csv', index=False, encoding='utf-8')"
   ]
  }
 ],
 "metadata": {
  "kernelspec": {
   "display_name": "cdl",
   "language": "python",
   "name": "python3"
  },
  "language_info": {
   "codemirror_mode": {
    "name": "ipython",
    "version": 3
   },
   "file_extension": ".py",
   "mimetype": "text/x-python",
   "name": "python",
   "nbconvert_exporter": "python",
   "pygments_lexer": "ipython3",
   "version": "3.9.16"
  },
  "orig_nbformat": 4
 },
 "nbformat": 4,
 "nbformat_minor": 2
}
