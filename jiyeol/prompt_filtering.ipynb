{
 "cells": [
  {
   "cell_type": "code",
   "execution_count": 147,
   "metadata": {},
   "outputs": [],
   "source": [
    "from datasets import load_dataset"
   ]
  },
  {
   "cell_type": "code",
   "execution_count": 148,
   "metadata": {},
   "outputs": [
    {
     "name": "stderr",
     "output_type": "stream",
     "text": [
      "Found cached dataset parquet (/home/jyp/.cache/huggingface/datasets/succinctly___parquet/succinctly--midjourney-prompts-f797d89fbe0404f5/0.0.0/2a3b91fbd88a2c90d1dbbb32b460cf621d31bd5b05b934492fdef7d8d6f236ec)\n"
     ]
    },
    {
     "data": {
      "application/vnd.jupyter.widget-view+json": {
       "model_id": "0f2b6043aa324430b4d441e5a73ea93f",
       "version_major": 2,
       "version_minor": 0
      },
      "text/plain": [
       "  0%|          | 0/3 [00:00<?, ?it/s]"
      ]
     },
     "metadata": {},
     "output_type": "display_data"
    }
   ],
   "source": [
    "midjourney = load_dataset('succinctly/midjourney-prompts')"
   ]
  },
  {
   "cell_type": "code",
   "execution_count": 149,
   "metadata": {},
   "outputs": [],
   "source": [
    "def has_number(string):\n",
    "    return any(char.isnumeric() for char in string)"
   ]
  },
  {
   "cell_type": "code",
   "execution_count": 150,
   "metadata": {},
   "outputs": [],
   "source": [
    "prompt_list = []\n",
    "\n",
    "for k in midjourney.keys():\n",
    "    for prompt in midjourney[k]['text']:\n",
    "        if ',' not in prompt:\n",
    "            pass\n",
    "        \n",
    "        elif len(prompt) < 15:\n",
    "            pass\n",
    "        \n",
    "        elif '-' not in prompt.split(',')[-1]:\n",
    "            pass\n",
    "        \n",
    "        elif has_number(prompt.split(',')[-1]):\n",
    "            prompt_list.append(prompt)"
   ]
  },
  {
   "cell_type": "code",
   "execution_count": 151,
   "metadata": {},
   "outputs": [
    {
     "data": {
      "text/plain": [
       "['a beautiful rendition of the god of jelly fishes machines, thousands of acid flowers, high voltage magic, ornate, arcane electricity, complex scene , highly detailed. --w 2160 --h 3840',\n",
       " 'floating microbacteria, fibers, forming a gigantic human body, standing on a planet, enviroment, nebula, space tunnel, 4k, octane render, houdini particles, high detailed, hyper-realistic, cinematic, epic, moody, Photography by Sarah Morris, Hellen van Meene, Craig Mullens, artstation, nasa, lens dirt, --ar 16:9',\n",
       " 'a hyper realistic render Lisbon tram, 8k, octane render --ar 7:5 --uplight',\n",
       " 'dripping mucus, amoeba, african tribal dressing, fungi, crawling vessels, battleship, jellyfish, chomper, sharp teeth, 4k, octane render, houdini particles, high detailed, hyper-realistic, cinematic, epic, moody, Photography by Sarah Morris, Hellen van Meene, Izumi Kato, Craig Mullens, artstation, nasa, lens dirt, micro photography, --ar 16:9',\n",
       " 'purple wisteria flower tree lush landscape mountain by Miyazaki Nausicaa Ghibli, spirited away, breath of the wild style --w 1152 --h 2048']"
      ]
     },
     "execution_count": 151,
     "metadata": {},
     "output_type": "execute_result"
    }
   ],
   "source": [
    "prompt_list[:5]"
   ]
  },
  {
   "cell_type": "code",
   "execution_count": 152,
   "metadata": {},
   "outputs": [],
   "source": [
    "from difflib import SequenceMatcher"
   ]
  },
  {
   "cell_type": "code",
   "execution_count": 153,
   "metadata": {},
   "outputs": [
    {
     "name": "stdout",
     "output_type": "stream",
     "text": [
      "similarity: 1.0, i: 0, j: 24809\n",
      "a beautiful rendition of the god of jelly fishes machines, thousands of acid flowers, high voltage magic, ornate, arcane electricity, complex scene , highly detailed. --w 2160 --h 3840\n",
      "a beautiful rendition of the god of jelly fishes machines, thousands of acid flowers, high voltage magic, ornate, arcane electricity, complex scene , highly detailed. --w 2160 --h 3840\n",
      "[] 0\n",
      "similarity: 0.9223744292237442, i: 1, j: 3\n",
      "floating microbacteria, fibers, forming a gigantic human body, standing on a planet, enviroment, nebula, space tunnel, 4k, octane render, houdini particles, high detailed, hyper-realistic, cinematic, epic, moody, Photography by Sarah Morris, Hellen van Meene, Craig Mullens, artstation, nasa, lens dirt, --ar 16:9\n",
      "dripping mucus, amoeba, african tribal dressing, fungi, crawling vessels, battleship, jellyfish, chomper, sharp teeth, 4k, octane render, houdini particles, high detailed, hyper-realistic, cinematic, epic, moody, Photography by Sarah Morris, Hellen van Meene, Izumi Kato, Craig Mullens, artstation, nasa, lens dirt, micro photography, --ar 16:9\n",
      "['a beautiful rendition of the god of jelly fishes machines, thousands of acid flowers, high voltage magic, ornate, arcane electricity, complex scene , highly detailed. --w 2160 --h 3840'] 1\n",
      "similarity: 1.0, i: 0, j: 35143\n",
      "a hyper realistic render Lisbon tram, 8k, octane render --ar 7:5 --uplight\n",
      "a hyper realistic render Lisbon tram, 8k, octane render --ar 7:5 --uplight\n",
      "[] 0\n",
      "similarity: 0.9223744292237442, i: 1, j: 225\n",
      "dripping mucus, amoeba, african tribal dressing, fungi, crawling vessels, battleship, jellyfish, chomper, sharp teeth, 4k, octane render, houdini particles, high detailed, hyper-realistic, cinematic, epic, moody, Photography by Sarah Morris, Hellen van Meene, Izumi Kato, Craig Mullens, artstation, nasa, lens dirt, micro photography, --ar 16:9\n",
      "floating microbacteria, fibers, forming a gigantic human body, standing on a planet, enviroment, nebula, space tunnel, 4k, octane render, houdini particles, high detailed, hyper-realistic, cinematic, epic, moody, Photography by Sarah Morris, Hellen van Meene, Craig Mullens, artstation, nasa, lens dirt, --ar 16:9\n",
      "['a hyper realistic render Lisbon tram, 8k, octane render --ar 7:5 --uplight'] 1\n",
      "similarity: 0.9496183206106871, i: 0, j: 646\n",
      "dripping mucus, amoeba, african tribal dressing, fungi, crawling vessels, battleship, jellyfish, chomper, sharp teeth, 4k, octane render, houdini particles, high detailed, hyper-realistic, cinematic, epic, moody, Photography by Sarah Morris, Hellen van Meene, Izumi Kato, Craig Mullens, artstation, nasa, lens dirt, micro photography, --ar 16:9\n",
      "Izumi Kato, cosmos, dripping mucus, african tribal dressing, fungi, crawling vessels, battleship, 4k, octane render, houdini particles, high detailed, hyper-realistic, cinematic, epic, moody, Photography by Sarah Morris, Hellen van Meene, Craig Mullens, artstation, nasa, lens dirt, macro photography, --ar 16:9\n",
      "[] 0\n",
      "similarity: 0.926905132192846, i: 0, j: 712\n",
      "dripping mucus, amoeba, african tribal dressing, fungi, crawling vessels, battleship, jellyfish, chomper, sharp teeth, 4k, octane render, houdini particles, high detailed, hyper-realistic, cinematic, epic, moody, Photography by Sarah Morris, Hellen van Meene, Izumi Kato, Craig Mullens, artstation, nasa, lens dirt, micro photography, --ar 16:9\n",
      "Izumi Kato, cosmos, dripping mucus, african tribal dressing, fungi, vessels, jupitar, 4k, octane render, houdini particles, high detailed, hyper-realistic, cinematic, epic, moody, Photography by Sarah Morris, Hellen van Meene, Craig Mullens, artstation, nasa, lens dirt, micro photography, --ar 16:9\n",
      "[] 0\n",
      "similarity: 0.9329446064139941, i: 0, j: 1246\n",
      "dripping mucus, amoeba, african tribal dressing, fungi, crawling vessels, battleship, jellyfish, chomper, sharp teeth, 4k, octane render, houdini particles, high detailed, hyper-realistic, cinematic, epic, moody, Photography by Sarah Morris, Hellen van Meene, Izumi Kato, Craig Mullens, artstation, nasa, lens dirt, micro photography, --ar 16:9\n",
      "floating microbacteria, forming a gigantic insect, a mothership creature, wrapped around a planet, a transparent shell, hybrid, enviroment, nebula, 4k, octane render, houdini particles, high detailed, hyper-realistic, cinematic, epic, moody, Photography by Sarah Morris, Hellen van Meene, Craig Mullens, artstation, nasa, lens dirt, --ar 16:9\n",
      "[] 0\n",
      "similarity: 0.9217391304347826, i: 0, j: 1311\n",
      "dripping mucus, amoeba, african tribal dressing, fungi, crawling vessels, battleship, jellyfish, chomper, sharp teeth, 4k, octane render, houdini particles, high detailed, hyper-realistic, cinematic, epic, moody, Photography by Sarah Morris, Hellen van Meene, Izumi Kato, Craig Mullens, artstation, nasa, lens dirt, micro photography, --ar 16:9\n",
      "floating microbacteria, fibers, forming a gigantic robotic insect, a mothership creature, wrapped around a starcraft, enviroment, nebula, space tunnel, 4k, octane render, houdini particles, high detailed, hyper-realistic, cinematic, epic, moody, Photography by Sarah Morris, Hellen van Meene, Craig Mullens, artstation, nasa, lens dirt, --ar 16:9\n",
      "[] 0\n",
      "similarity: 1.0, i: 0, j: 16667\n",
      "purple wisteria flower tree lush landscape mountain by Miyazaki Nausicaa Ghibli, spirited away, breath of the wild style --w 1152 --h 2048\n",
      "purple wisteria flower tree lush landscape mountain by Miyazaki Nausicaa Ghibli, spirited away, breath of the wild style --w 1152 --h 2048\n",
      "[] 0\n"
     ]
    }
   ],
   "source": [
    "passed = []\n",
    "copy_count = 0\n",
    "short_index, saved_index = 0, 0\n",
    "while True:\n",
    "    length = len(prompt_list)\n",
    "    double_break = False    \n",
    "    \n",
    "    for i in range(length):\n",
    "        for j in range(length):\n",
    "            if i != j:\n",
    "                similarity = SequenceMatcher(None, prompt_list[i], prompt_list[j]).quick_ratio()\n",
    "                \n",
    "                if similarity > 0.9:\n",
    "                    short_index = i if len(prompt_list[i]) < len(prompt_list[j]) else j\n",
    "                    double_break = True\n",
    "                    copy_count += 1\n",
    "                    saved_index = i\n",
    "                    break\n",
    "\n",
    "        if double_break:\n",
    "            break\n",
    "    \n",
    "    if double_break:\n",
    "        passed += prompt_list[:saved_index]\n",
    "        del prompt_list[short_index]\n",
    "        prompt_list = prompt_list[saved_index:]\n",
    "        \n",
    "        if copy_count % 10 == 0:\n",
    "            print(f'length of passed: {len(passed)}')\n",
    "            print(f'length of prompt list: {len(prompt_list)}')\n",
    "            print(f'copy_count: {copy_count}')\n",
    "    \n",
    "    else:\n",
    "        break"
   ]
  },
  {
   "cell_type": "code",
   "execution_count": null,
   "metadata": {},
   "outputs": [],
   "source": [
    "import json\n",
    "\n",
    "with open('prompt.json', 'w', encoding='utf-8') as f:\n",
    "    json.dump(passed, f, indent=4)"
   ]
  }
 ],
 "metadata": {
  "kernelspec": {
   "display_name": "Python 3",
   "language": "python",
   "name": "python3"
  },
  "language_info": {
   "codemirror_mode": {
    "name": "ipython",
    "version": 3
   },
   "file_extension": ".py",
   "mimetype": "text/x-python",
   "name": "python",
   "nbconvert_exporter": "python",
   "pygments_lexer": "ipython3",
   "version": "3.8.10"
  },
  "orig_nbformat": 4
 },
 "nbformat": 4,
 "nbformat_minor": 2
}
