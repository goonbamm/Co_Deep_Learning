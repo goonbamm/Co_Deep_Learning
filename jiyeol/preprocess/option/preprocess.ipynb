{
 "cells": [
  {
   "cell_type": "code",
   "execution_count": 68,
   "metadata": {},
   "outputs": [],
   "source": [
    "import re\n",
    "import pandas as pd\n",
    "\n",
    "from tqdm.auto import tqdm"
   ]
  },
  {
   "cell_type": "code",
   "execution_count": 69,
   "metadata": {},
   "outputs": [],
   "source": [
    "SEED = 42"
   ]
  },
  {
   "cell_type": "code",
   "execution_count": 70,
   "metadata": {},
   "outputs": [],
   "source": [
    "prompt_dataset = pd.read_csv('1M_midjourney_prompts.csv')\n",
    "\n",
    "prompt_dataset.rename(columns={\n",
    "    'Mind Manifesting poseidon in ocean, holding trident, sharks, rpg style, ': 'prompt',\n",
    "    'Random, Pose, Old, Style, Mind Manifesting': 'keyword'\n",
    "    },inplace=True)"
   ]
  },
  {
   "cell_type": "code",
   "execution_count": 71,
   "metadata": {},
   "outputs": [
    {
     "data": {
      "text/html": [
       "<div>\n",
       "<style scoped>\n",
       "    .dataframe tbody tr th:only-of-type {\n",
       "        vertical-align: middle;\n",
       "    }\n",
       "\n",
       "    .dataframe tbody tr th {\n",
       "        vertical-align: top;\n",
       "    }\n",
       "\n",
       "    .dataframe thead th {\n",
       "        text-align: right;\n",
       "    }\n",
       "</style>\n",
       "<table border=\"1\" class=\"dataframe\">\n",
       "  <thead>\n",
       "    <tr style=\"text-align: right;\">\n",
       "      <th></th>\n",
       "      <th>prompt</th>\n",
       "      <th>keyword</th>\n",
       "    </tr>\n",
       "  </thead>\n",
       "  <tbody>\n",
       "    <tr>\n",
       "      <th>0</th>\n",
       "      <td>Diagram Make The Starling Night paintings real...</td>\n",
       "      <td>Random, 4K, Reality, Paint, Painting, Cinemati...</td>\n",
       "    </tr>\n",
       "    <tr>\n",
       "      <th>1</th>\n",
       "      <td>Magical Girl cute kitten wearing suit, teachin...</td>\n",
       "      <td>Random, Cartoon, Ground, Art, Bright, Style, C...</td>\n",
       "    </tr>\n",
       "    <tr>\n",
       "      <th>2</th>\n",
       "      <td>Frank Martin sleeve tattoo , wave, style of Ho...</td>\n",
       "      <td>Random, Tattoo, Sleeve, Style, Dragon, Frank M...</td>\n",
       "    </tr>\n",
       "    <tr>\n",
       "      <th>3</th>\n",
       "      <td>Close Face /imagine futuristic magazine ad for...</td>\n",
       "      <td>Random, Zine, Futuristic, Pan, Close Face</td>\n",
       "    </tr>\n",
       "    <tr>\n",
       "      <th>4</th>\n",
       "      <td>Otaku wide shot of a huge red giant star in sp...</td>\n",
       "      <td>Random, In The Distance, Silhouette, Spaceship...</td>\n",
       "    </tr>\n",
       "  </tbody>\n",
       "</table>\n",
       "</div>"
      ],
      "text/plain": [
       "                                              prompt  \\\n",
       "0  Diagram Make The Starling Night paintings real...   \n",
       "1  Magical Girl cute kitten wearing suit, teachin...   \n",
       "2  Frank Martin sleeve tattoo , wave, style of Ho...   \n",
       "3  Close Face /imagine futuristic magazine ad for...   \n",
       "4  Otaku wide shot of a huge red giant star in sp...   \n",
       "\n",
       "                                             keyword  \n",
       "0  Random, 4K, Reality, Paint, Painting, Cinemati...  \n",
       "1  Random, Cartoon, Ground, Art, Bright, Style, C...  \n",
       "2  Random, Tattoo, Sleeve, Style, Dragon, Frank M...  \n",
       "3          Random, Zine, Futuristic, Pan, Close Face  \n",
       "4  Random, In The Distance, Silhouette, Spaceship...  "
      ]
     },
     "execution_count": 71,
     "metadata": {},
     "output_type": "execute_result"
    }
   ],
   "source": [
    "prompt_dataset.head()"
   ]
  },
  {
   "cell_type": "code",
   "execution_count": 72,
   "metadata": {},
   "outputs": [
    {
     "data": {
      "text/plain": [
       "999999"
      ]
     },
     "execution_count": 72,
     "metadata": {},
     "output_type": "execute_result"
    }
   ],
   "source": [
    "len(prompt_dataset)"
   ]
  },
  {
   "cell_type": "code",
   "execution_count": 73,
   "metadata": {},
   "outputs": [],
   "source": [
    "def get_keywords(keyword):\n",
    "    return [[k.strip().lower() for k in keyword.split(', ') if k != 'Random' and k != '']]"
   ]
  },
  {
   "cell_type": "code",
   "execution_count": 74,
   "metadata": {},
   "outputs": [],
   "source": [
    "prompt_dataset['option'] = prompt_dataset['keyword'].apply(lambda x: get_keywords(x))\n",
    "prompt_dataset.drop(['keyword'], axis=1, inplace=True)"
   ]
  },
  {
   "cell_type": "code",
   "execution_count": 75,
   "metadata": {},
   "outputs": [
    {
     "data": {
      "text/html": [
       "<div>\n",
       "<style scoped>\n",
       "    .dataframe tbody tr th:only-of-type {\n",
       "        vertical-align: middle;\n",
       "    }\n",
       "\n",
       "    .dataframe tbody tr th {\n",
       "        vertical-align: top;\n",
       "    }\n",
       "\n",
       "    .dataframe thead th {\n",
       "        text-align: right;\n",
       "    }\n",
       "</style>\n",
       "<table border=\"1\" class=\"dataframe\">\n",
       "  <thead>\n",
       "    <tr style=\"text-align: right;\">\n",
       "      <th></th>\n",
       "      <th>prompt</th>\n",
       "      <th>option</th>\n",
       "    </tr>\n",
       "  </thead>\n",
       "  <tbody>\n",
       "    <tr>\n",
       "      <th>0</th>\n",
       "      <td>Diagram Make The Starling Night paintings real...</td>\n",
       "      <td>[[4k, reality, paint, painting, cinematic, woo...</td>\n",
       "    </tr>\n",
       "    <tr>\n",
       "      <th>1</th>\n",
       "      <td>Magical Girl cute kitten wearing suit, teachin...</td>\n",
       "      <td>[[cartoon, ground, art, bright, style, cute, c...</td>\n",
       "    </tr>\n",
       "    <tr>\n",
       "      <th>2</th>\n",
       "      <td>Frank Martin sleeve tattoo , wave, style of Ho...</td>\n",
       "      <td>[[tattoo, sleeve, style, dragon, frank martin]]</td>\n",
       "    </tr>\n",
       "    <tr>\n",
       "      <th>3</th>\n",
       "      <td>Close Face /imagine futuristic magazine ad for...</td>\n",
       "      <td>[[zine, futuristic, pan, close face]]</td>\n",
       "    </tr>\n",
       "    <tr>\n",
       "      <th>4</th>\n",
       "      <td>Otaku wide shot of a huge red giant star in sp...</td>\n",
       "      <td>[[in the distance, silhouette, spaceship, wide...</td>\n",
       "    </tr>\n",
       "  </tbody>\n",
       "</table>\n",
       "</div>"
      ],
      "text/plain": [
       "                                              prompt  \\\n",
       "0  Diagram Make The Starling Night paintings real...   \n",
       "1  Magical Girl cute kitten wearing suit, teachin...   \n",
       "2  Frank Martin sleeve tattoo , wave, style of Ho...   \n",
       "3  Close Face /imagine futuristic magazine ad for...   \n",
       "4  Otaku wide shot of a huge red giant star in sp...   \n",
       "\n",
       "                                              option  \n",
       "0  [[4k, reality, paint, painting, cinematic, woo...  \n",
       "1  [[cartoon, ground, art, bright, style, cute, c...  \n",
       "2    [[tattoo, sleeve, style, dragon, frank martin]]  \n",
       "3              [[zine, futuristic, pan, close face]]  \n",
       "4  [[in the distance, silhouette, spaceship, wide...  "
      ]
     },
     "execution_count": 75,
     "metadata": {},
     "output_type": "execute_result"
    }
   ],
   "source": [
    "prompt_dataset.head()"
   ]
  },
  {
   "cell_type": "code",
   "execution_count": 76,
   "metadata": {},
   "outputs": [
    {
     "name": "stdout",
     "output_type": "stream",
     "text": [
      "Prompt: Diagram Make The Starling Night paintings reality, in the woods, 4k , cinematic, \n",
      "Option: [['4k', 'reality', 'paint', 'painting', 'cinematic', 'wood', 'diagram']]\n",
      "\n",
      "\n",
      "Prompt: Magical Girl cute kitten wearing suit, teaching in class room, bright light, clear background, cartoon style, v5, \n",
      "Option: [['cartoon', 'ground', 'art', 'bright', 'style', 'cute', 'cut', 'background', 'magical girl']]\n",
      "\n",
      "\n",
      "Prompt: Frank Martin sleeve tattoo , wave, style of Hokusai, cherry blossoms, setting sun, D&d dragon, Caffeine molecular compound, \n",
      "Option: [['tattoo', 'sleeve', 'style', 'dragon', 'frank martin']]\n",
      "\n",
      "\n",
      "Prompt: Close Face /imagine futuristic magazine ad for a tech company called Moon, \n",
      "Option: [['zine', 'futuristic', 'pan', 'close face']]\n",
      "\n",
      "\n"
     ]
    }
   ],
   "source": [
    "for i, row in prompt_dataset.iterrows():\n",
    "    if i > 3: break\n",
    "\n",
    "    print('Prompt:', row['prompt'])\n",
    "    print('Option:', row['option'])\n",
    "    \n",
    "    print('\\n')"
   ]
  },
  {
   "cell_type": "code",
   "execution_count": 77,
   "metadata": {},
   "outputs": [],
   "source": [
    "def get_option_dist(df):\n",
    "    option_dict = {}\n",
    "\n",
    "    for i, row in tqdm(df.iterrows(), total=len(df)):\n",
    "        for k in row['option']:\n",
    "            if k in option_dict:\n",
    "                option_dict[k] += 1\n",
    "                \n",
    "            else:\n",
    "                option_dict[k] = 1\n",
    "    \n",
    "    \n",
    "    sorted_option = sorted(option_dict.items(), key=lambda item: item[1], reverse=True)\n",
    "    \n",
    "    print('Top 5 options:', sorted_option[:5])\n",
    "    print('len:', len(sorted_option))\n",
    "    print('\\n')"
   ]
  },
  {
   "cell_type": "code",
   "execution_count": 78,
   "metadata": {},
   "outputs": [],
   "source": [
    "from datasets import Dataset\n",
    "prompt_dataset = Dataset.from_pandas(prompt_dataset)\n",
    "\n",
    "prompt_dataset = prompt_dataset.train_test_split(test_size=0.1, seed=SEED)\n",
    "\n",
    "# Split the train set further into train and validation sets (90% train, 10% validation)\n",
    "prompt_dataset['train'] = prompt_dataset['train'].train_test_split(test_size=0.1, seed=SEED)\n",
    "\n",
    "# Access the resulting datasets\n",
    "train_dataset = prompt_dataset['train']['train'].to_pandas()\n",
    "valid_dataset = prompt_dataset['train']['test'].to_pandas()\n",
    "test_dataset = prompt_dataset['test'].to_pandas()"
   ]
  },
  {
   "cell_type": "code",
   "execution_count": 79,
   "metadata": {},
   "outputs": [],
   "source": [
    "train_dataset.to_json('train.json', indent=4, force_ascii=False, orient='records')\n",
    "valid_dataset.to_json('valid.json', indent=4, force_ascii=False, orient='records')\n",
    "test_dataset.to_json('test.json', indent=4, force_ascii=False, orient='records')"
   ]
  },
  {
   "cell_type": "code",
   "execution_count": 80,
   "metadata": {},
   "outputs": [
    {
     "name": "stdout",
     "output_type": "stream",
     "text": [
      "809999 90000 100000\n"
     ]
    }
   ],
   "source": [
    "print(len(train_dataset), len(valid_dataset), len(test_dataset))"
   ]
  },
  {
   "cell_type": "code",
   "execution_count": 81,
   "metadata": {},
   "outputs": [],
   "source": [
    "# get_option_dist(train_dataset)\n",
    "# get_option_dist(valid_dataset)\n",
    "# get_option_dist(test_dataset)"
   ]
  },
  {
   "cell_type": "code",
   "execution_count": 82,
   "metadata": {},
   "outputs": [
    {
     "data": {
      "text/html": [
       "<div>\n",
       "<style scoped>\n",
       "    .dataframe tbody tr th:only-of-type {\n",
       "        vertical-align: middle;\n",
       "    }\n",
       "\n",
       "    .dataframe tbody tr th {\n",
       "        vertical-align: top;\n",
       "    }\n",
       "\n",
       "    .dataframe thead th {\n",
       "        text-align: right;\n",
       "    }\n",
       "</style>\n",
       "<table border=\"1\" class=\"dataframe\">\n",
       "  <thead>\n",
       "    <tr style=\"text-align: right;\">\n",
       "      <th></th>\n",
       "      <th>prompt</th>\n",
       "      <th>option</th>\n",
       "    </tr>\n",
       "  </thead>\n",
       "  <tbody>\n",
       "    <tr>\n",
       "      <th>0</th>\n",
       "      <td>Jasper Johns In the Astral Library, I fell dow...</td>\n",
       "      <td>[[ground, fur, dark, jasper johns]]</td>\n",
       "    </tr>\n",
       "    <tr>\n",
       "      <th>1</th>\n",
       "      <td>Sharpness buffalo having romantic adventure wi...</td>\n",
       "      <td>[[photo, ray, noise, drama, coarse, neon, dram...</td>\n",
       "    </tr>\n",
       "    <tr>\n",
       "      <th>2</th>\n",
       "      <td>Mystical Wes Anderson style, portrait photogra...</td>\n",
       "      <td>[[photo, 8k, photography, style, portrait phot...</td>\n",
       "    </tr>\n",
       "    <tr>\n",
       "      <th>3</th>\n",
       "      <td>Alternate Reality small animals with lion,</td>\n",
       "      <td>[[lion, alternate reality]]</td>\n",
       "    </tr>\n",
       "    <tr>\n",
       "      <th>4</th>\n",
       "      <td>Comic Book Art tall lantern in the park by day,</td>\n",
       "      <td>[[comic book art]]</td>\n",
       "    </tr>\n",
       "  </tbody>\n",
       "</table>\n",
       "</div>"
      ],
      "text/plain": [
       "                                              prompt  \\\n",
       "0  Jasper Johns In the Astral Library, I fell dow...   \n",
       "1  Sharpness buffalo having romantic adventure wi...   \n",
       "2  Mystical Wes Anderson style, portrait photogra...   \n",
       "3        Alternate Reality small animals with lion,    \n",
       "4   Comic Book Art tall lantern in the park by day,    \n",
       "\n",
       "                                              option  \n",
       "0                [[ground, fur, dark, jasper johns]]  \n",
       "1  [[photo, ray, noise, drama, coarse, neon, dram...  \n",
       "2  [[photo, 8k, photography, style, portrait phot...  \n",
       "3                        [[lion, alternate reality]]  \n",
       "4                                 [[comic book art]]  "
      ]
     },
     "execution_count": 82,
     "metadata": {},
     "output_type": "execute_result"
    }
   ],
   "source": [
    "train_dataset.head()"
   ]
  }
 ],
 "metadata": {
  "kernelspec": {
   "display_name": "jyp",
   "language": "python",
   "name": "python3"
  },
  "language_info": {
   "codemirror_mode": {
    "name": "ipython",
    "version": 3
   },
   "file_extension": ".py",
   "mimetype": "text/x-python",
   "name": "python",
   "nbconvert_exporter": "python",
   "pygments_lexer": "ipython3",
   "version": "3.9.16"
  },
  "orig_nbformat": 4
 },
 "nbformat": 4,
 "nbformat_minor": 2
}
