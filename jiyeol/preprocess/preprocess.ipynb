{
 "cells": [
  {
   "cell_type": "code",
   "execution_count": 63,
   "metadata": {},
   "outputs": [],
   "source": [
    "import re\n",
    "import pandas as pd"
   ]
  },
  {
   "cell_type": "code",
   "execution_count": 64,
   "metadata": {},
   "outputs": [],
   "source": [
    "SEED = 42"
   ]
  },
  {
   "cell_type": "code",
   "execution_count": 65,
   "metadata": {},
   "outputs": [],
   "source": [
    "prompt_dataset = pd.read_csv('api_dataset.csv')"
   ]
  },
  {
   "cell_type": "code",
   "execution_count": 66,
   "metadata": {},
   "outputs": [
    {
     "data": {
      "text/html": [
       "<div>\n",
       "<style scoped>\n",
       "    .dataframe tbody tr th:only-of-type {\n",
       "        vertical-align: middle;\n",
       "    }\n",
       "\n",
       "    .dataframe tbody tr th {\n",
       "        vertical-align: top;\n",
       "    }\n",
       "\n",
       "    .dataframe thead th {\n",
       "        text-align: right;\n",
       "    }\n",
       "</style>\n",
       "<table border=\"1\" class=\"dataframe\">\n",
       "  <thead>\n",
       "    <tr style=\"text-align: right;\">\n",
       "      <th></th>\n",
       "      <th>Unnamed: 0</th>\n",
       "      <th>PROMPT</th>\n",
       "      <th>SCENARIO</th>\n",
       "    </tr>\n",
       "  </thead>\n",
       "  <tbody>\n",
       "    <tr>\n",
       "      <th>0</th>\n",
       "      <td>0</td>\n",
       "      <td>Giant Biker Gladiator, fullbody; by Peter Mohr...</td>\n",
       "      <td>아이: 저는 거대한 바이커 격투사 그림을 그리고 싶어요. 그리고 그림에는 꼭 Pet...</td>\n",
       "    </tr>\n",
       "    <tr>\n",
       "      <th>1</th>\n",
       "      <td>0</td>\n",
       "      <td>crossing the Shadow fold into the pure darknes...</td>\n",
       "      <td>아이: 저번에 본 것처럼 Shadow fold를 그리고 Volcra creature...</td>\n",
       "    </tr>\n",
       "    <tr>\n",
       "      <th>2</th>\n",
       "      <td>0</td>\n",
       "      <td>fire dragon, sitting in dragon nest, dragon, 4...</td>\n",
       "      <td>아이: 용 둥지에 앉은 불타는 용 그림을 그려봐. 그리고 용의 비늘 디테일도 넣어줘...</td>\n",
       "    </tr>\n",
       "    <tr>\n",
       "      <th>3</th>\n",
       "      <td>0</td>\n",
       "      <td>Woody McBride techno rave poster, big yellow s...</td>\n",
       "      <td>아이: 우디 맥브라이드의 테크노 레이브 포스터를 만들어봐. 큰 노란색 스마일리도 추...</td>\n",
       "    </tr>\n",
       "    <tr>\n",
       "      <th>4</th>\n",
       "      <td>0</td>\n",
       "      <td>savage barbarian victorian shaman warrior cybo...</td>\n",
       "      <td>아이: 저에게 savage barbarian victorian shaman warr...</td>\n",
       "    </tr>\n",
       "  </tbody>\n",
       "</table>\n",
       "</div>"
      ],
      "text/plain": [
       "   Unnamed: 0                                             PROMPT  \\\n",
       "0           0  Giant Biker Gladiator, fullbody; by Peter Mohr...   \n",
       "1           0  crossing the Shadow fold into the pure darknes...   \n",
       "2           0  fire dragon, sitting in dragon nest, dragon, 4...   \n",
       "3           0  Woody McBride techno rave poster, big yellow s...   \n",
       "4           0  savage barbarian victorian shaman warrior cybo...   \n",
       "\n",
       "                                            SCENARIO  \n",
       "0  아이: 저는 거대한 바이커 격투사 그림을 그리고 싶어요. 그리고 그림에는 꼭 Pet...  \n",
       "1  아이: 저번에 본 것처럼 Shadow fold를 그리고 Volcra creature...  \n",
       "2  아이: 용 둥지에 앉은 불타는 용 그림을 그려봐. 그리고 용의 비늘 디테일도 넣어줘...  \n",
       "3  아이: 우디 맥브라이드의 테크노 레이브 포스터를 만들어봐. 큰 노란색 스마일리도 추...  \n",
       "4  아이: 저에게 savage barbarian victorian shaman warr...  "
      ]
     },
     "execution_count": 66,
     "metadata": {},
     "output_type": "execute_result"
    }
   ],
   "source": [
    "prompt_dataset.head()"
   ]
  },
  {
   "cell_type": "code",
   "execution_count": 67,
   "metadata": {},
   "outputs": [],
   "source": [
    "def clean_text(dialogue):\n",
    "    \n",
    "    dialogue_list = []\n",
    "    \n",
    "    for s in dialogue.split('\\n'):\n",
    "        if s != '':\n",
    "            s = s.strip()\n",
    "            if s.startswith('\\\"') and s.endswith('\\\"'):\n",
    "                s = s[1:-1]\n",
    "            dialogue_list.append(s)\n",
    "    \n",
    "    return dialogue_list"
   ]
  },
  {
   "cell_type": "code",
   "execution_count": 68,
   "metadata": {},
   "outputs": [],
   "source": [
    "def contains_english(text):\n",
    "    # Define the regular expression pattern to match English characters\n",
    "    pattern = r'[a-zA-Z]'\n",
    "    \n",
    "    # Use the search method to check if the pattern is found in the text\n",
    "    if re.search(pattern, text):\n",
    "        return True\n",
    "    else:\n",
    "        return False"
   ]
  },
  {
   "cell_type": "code",
   "execution_count": 69,
   "metadata": {},
   "outputs": [],
   "source": [
    "prompt_dataset['SCENARIO'] = prompt_dataset['SCENARIO'].apply(lambda x: clean_text(x))"
   ]
  },
  {
   "cell_type": "code",
   "execution_count": 70,
   "metadata": {},
   "outputs": [
    {
     "data": {
      "text/plain": [
       "1917"
      ]
     },
     "execution_count": 70,
     "metadata": {},
     "output_type": "execute_result"
    }
   ],
   "source": [
    "len(prompt_dataset)"
   ]
  },
  {
   "cell_type": "code",
   "execution_count": 71,
   "metadata": {},
   "outputs": [],
   "source": [
    "drop_list = []\n",
    "\n",
    "# 총 1917개\n",
    "for i, row in prompt_dataset.iterrows():\n",
    "    if len(row['SCENARIO']) <= 4: # 대화 개수가 4개보다 적은 경우: 324개\n",
    "        drop_list.append(i)\n",
    "    \n",
    "    elif len(row['PROMPT']) < 10: # prompt 길이가 10보다 작은 경우: 21개\n",
    "        drop_list.append(i)\n",
    "   \n",
    "    else:\n",
    "        for s in row['SCENARIO']: \n",
    "            if '아이' in s and 'Model' in s: # 대화가 잘못 섞여들어간 경우: 38개\n",
    "                drop_list.append(i)\n",
    "                break\n",
    "        \n",
    "            elif '아이' in s and contains_english(s): # 아이의 대화에 영어가 포함된 경우: 613개\n",
    "                drop_list.append(i)\n",
    "                break"
   ]
  },
  {
   "cell_type": "code",
   "execution_count": 72,
   "metadata": {},
   "outputs": [],
   "source": [
    "prompt_dataset.drop(drop_list, inplace=True)"
   ]
  },
  {
   "cell_type": "code",
   "execution_count": 73,
   "metadata": {},
   "outputs": [
    {
     "data": {
      "text/plain": [
       "921"
      ]
     },
     "execution_count": 73,
     "metadata": {},
     "output_type": "execute_result"
    }
   ],
   "source": [
    "len(prompt_dataset)"
   ]
  },
  {
   "cell_type": "code",
   "execution_count": 74,
   "metadata": {},
   "outputs": [
    {
     "data": {
      "text/html": [
       "<div>\n",
       "<style scoped>\n",
       "    .dataframe tbody tr th:only-of-type {\n",
       "        vertical-align: middle;\n",
       "    }\n",
       "\n",
       "    .dataframe tbody tr th {\n",
       "        vertical-align: top;\n",
       "    }\n",
       "\n",
       "    .dataframe thead th {\n",
       "        text-align: right;\n",
       "    }\n",
       "</style>\n",
       "<table border=\"1\" class=\"dataframe\">\n",
       "  <thead>\n",
       "    <tr style=\"text-align: right;\">\n",
       "      <th></th>\n",
       "      <th>Unnamed: 0</th>\n",
       "      <th>PROMPT</th>\n",
       "      <th>SCENARIO</th>\n",
       "    </tr>\n",
       "  </thead>\n",
       "  <tbody>\n",
       "    <tr>\n",
       "      <th>6</th>\n",
       "      <td>0</td>\n",
       "      <td>highly detailed photograph, 4k, of a lobby : :...</td>\n",
       "      <td>[아이: 저는 요즘 브루탈리스트 건축물에 관심이 생겨서, 로비를 만들어봐주세요., ...</td>\n",
       "    </tr>\n",
       "    <tr>\n",
       "      <th>11</th>\n",
       "      <td>0</td>\n",
       "      <td>child's drawing of the end of the world, crayo...</td>\n",
       "      <td>[아이: 하얀 종이에 세상의 끝을 그려봐. 크레용으로 그리면 좋겠어., Model:...</td>\n",
       "    </tr>\n",
       "    <tr>\n",
       "      <th>14</th>\n",
       "      <td>0</td>\n",
       "      <td>small texture, black and white, used look, abs...</td>\n",
       "      <td>[아이: 그림을 그려주세요., Model: What kind of picture w...</td>\n",
       "    </tr>\n",
       "    <tr>\n",
       "      <th>15</th>\n",
       "      <td>0</td>\n",
       "      <td>Victorian era photographs, spirit photography,...</td>\n",
       "      <td>[아이: 요즘 유행하는 영화처럼 귀신들이 나오는 사진을 만들어봐. 그리고 그 사진에...</td>\n",
       "    </tr>\n",
       "    <tr>\n",
       "      <th>20</th>\n",
       "      <td>0</td>\n",
       "      <td>Divine syncronicities between Christianity and...</td>\n",
       "      <td>[아이: 성경과 이슬람교의 신비한 유사점을 그림으로 나타내봐. 그리고 그림에는 조상...</td>\n",
       "    </tr>\n",
       "  </tbody>\n",
       "</table>\n",
       "</div>"
      ],
      "text/plain": [
       "    Unnamed: 0                                             PROMPT  \\\n",
       "6            0  highly detailed photograph, 4k, of a lobby : :...   \n",
       "11           0  child's drawing of the end of the world, crayo...   \n",
       "14           0  small texture, black and white, used look, abs...   \n",
       "15           0  Victorian era photographs, spirit photography,...   \n",
       "20           0  Divine syncronicities between Christianity and...   \n",
       "\n",
       "                                             SCENARIO  \n",
       "6   [아이: 저는 요즘 브루탈리스트 건축물에 관심이 생겨서, 로비를 만들어봐주세요., ...  \n",
       "11  [아이: 하얀 종이에 세상의 끝을 그려봐. 크레용으로 그리면 좋겠어., Model:...  \n",
       "14  [아이: 그림을 그려주세요., Model: What kind of picture w...  \n",
       "15  [아이: 요즘 유행하는 영화처럼 귀신들이 나오는 사진을 만들어봐. 그리고 그 사진에...  \n",
       "20  [아이: 성경과 이슬람교의 신비한 유사점을 그림으로 나타내봐. 그리고 그림에는 조상...  "
      ]
     },
     "execution_count": 74,
     "metadata": {},
     "output_type": "execute_result"
    }
   ],
   "source": [
    "prompt_dataset.head()"
   ]
  },
  {
   "cell_type": "code",
   "execution_count": 75,
   "metadata": {},
   "outputs": [],
   "source": [
    "from datasets import Dataset"
   ]
  },
  {
   "cell_type": "code",
   "execution_count": 76,
   "metadata": {},
   "outputs": [],
   "source": [
    "prompt_dataset = Dataset.from_pandas(prompt_dataset)\n",
    "# Split the dataset into train and test sets (90% train, 10% test)\n",
    "prompt_dataset = prompt_dataset.train_test_split(test_size=0.1, seed=SEED)\n",
    "\n",
    "# Split the train set further into train and validation sets (90% train, 10% validation)\n",
    "prompt_dataset['train'] = prompt_dataset['train'].train_test_split(test_size=0.1)\n",
    "\n",
    "# Access the resulting datasets\n",
    "train_dataset = prompt_dataset['train']['train'].to_pandas()\n",
    "valid_dataset = prompt_dataset['train']['test'].to_pandas()\n",
    "test_dataset = prompt_dataset['test'].to_pandas()"
   ]
  },
  {
   "cell_type": "code",
   "execution_count": 77,
   "metadata": {},
   "outputs": [
    {
     "data": {
      "text/html": [
       "<div>\n",
       "<style scoped>\n",
       "    .dataframe tbody tr th:only-of-type {\n",
       "        vertical-align: middle;\n",
       "    }\n",
       "\n",
       "    .dataframe tbody tr th {\n",
       "        vertical-align: top;\n",
       "    }\n",
       "\n",
       "    .dataframe thead th {\n",
       "        text-align: right;\n",
       "    }\n",
       "</style>\n",
       "<table border=\"1\" class=\"dataframe\">\n",
       "  <thead>\n",
       "    <tr style=\"text-align: right;\">\n",
       "      <th></th>\n",
       "      <th>Unnamed: 0</th>\n",
       "      <th>PROMPT</th>\n",
       "      <th>SCENARIO</th>\n",
       "      <th>__index_level_0__</th>\n",
       "    </tr>\n",
       "  </thead>\n",
       "  <tbody>\n",
       "    <tr>\n",
       "      <th>0</th>\n",
       "      <td>0</td>\n",
       "      <td>door to the stars in the desert, epic, pulp ar...</td>\n",
       "      <td>[아이: 사막에서 별문을 연상시키는 문을 그려봐. 그리고 판타지 잡지 같은 느낌도 ...</td>\n",
       "      <td>790</td>\n",
       "    </tr>\n",
       "    <tr>\n",
       "      <th>1</th>\n",
       "      <td>0</td>\n",
       "      <td>glowing brutalist corporate office sleek shiny...</td>\n",
       "      <td>[아이: 사무실 같은 건물을 그려봐. 그리고 건물 주변에 사람들이 많이 있으면 좋겠...</td>\n",
       "      <td>1771</td>\n",
       "    </tr>\n",
       "    <tr>\n",
       "      <th>2</th>\n",
       "      <td>0</td>\n",
       "      <td>a mystic Log cabin, dusk, foggy, mysterious, c...</td>\n",
       "      <td>[아이: 미스틱한 로그 캐빈 같은 거 그려줘. 그리고 땅에 안개가 자욱하게 깔리는 ...</td>\n",
       "      <td>813</td>\n",
       "    </tr>\n",
       "    <tr>\n",
       "      <th>3</th>\n",
       "      <td>0</td>\n",
       "      <td>Maasai warriors, Kenya, trending on artstation...</td>\n",
       "      <td>[아이: 케냐 마사이 전사들을 그린 그림을 만들어줘. 그리고 아트스테이션에서 인기있...</td>\n",
       "      <td>91</td>\n",
       "    </tr>\n",
       "    <tr>\n",
       "      <th>4</th>\n",
       "      <td>0</td>\n",
       "      <td>view of a fast food stand that sells squid and...</td>\n",
       "      <td>[아이: 빨간색 램엔과 오징어를 파는 패스트푸드 가게를 그려줘., Model: vi...</td>\n",
       "      <td>1066</td>\n",
       "    </tr>\n",
       "    <tr>\n",
       "      <th>...</th>\n",
       "      <td>...</td>\n",
       "      <td>...</td>\n",
       "      <td>...</td>\n",
       "      <td>...</td>\n",
       "    </tr>\n",
       "    <tr>\n",
       "      <th>740</th>\n",
       "      <td>0</td>\n",
       "      <td>inside a space station, syd mead style, hyperr...</td>\n",
       "      <td>[아이: 우주선 안에서 시드 미드 스타일의 그림을 그려봐. 그리고 너무 어두운 느낌...</td>\n",
       "      <td>1167</td>\n",
       "    </tr>\n",
       "    <tr>\n",
       "      <th>741</th>\n",
       "      <td>0</td>\n",
       "      <td>the city of time, space, and entropy, vast and...</td>\n",
       "      <td>[아이: 저는 미래 도시 같은 그림을 그려봐요. 그리고 빛이 반짝이는 느낌도 있으면...</td>\n",
       "      <td>1701</td>\n",
       "    </tr>\n",
       "    <tr>\n",
       "      <th>742</th>\n",
       "      <td>0</td>\n",
       "      <td>beautiful girl with short wavy black hair who ...</td>\n",
       "      <td>[아이: 진짜 멋진 여자 화보 사진을 그려줘. 그리고 머리는 검은머리 파마로 해줘....</td>\n",
       "      <td>608</td>\n",
       "    </tr>\n",
       "    <tr>\n",
       "      <th>743</th>\n",
       "      <td>0</td>\n",
       "      <td>Hokkaido, high detail, 8k, by Ashley Wood --ar...</td>\n",
       "      <td>[아이: 눈사람 그려줘. 눈이 많이 와서 눈사람도 눈이 많이 덮였으면 좋겠어., M...</td>\n",
       "      <td>196</td>\n",
       "    </tr>\n",
       "    <tr>\n",
       "      <th>744</th>\n",
       "      <td>0</td>\n",
       "      <td>Two people skiing down a mountain, art nouveau...</td>\n",
       "      <td>[아이: 눈이 내리는 산 위에서 스키를 타는 사람들이 있는 그림을 그려봐. 그리고 ...</td>\n",
       "      <td>422</td>\n",
       "    </tr>\n",
       "  </tbody>\n",
       "</table>\n",
       "<p>745 rows × 4 columns</p>\n",
       "</div>"
      ],
      "text/plain": [
       "     Unnamed: 0                                             PROMPT  \\\n",
       "0             0  door to the stars in the desert, epic, pulp ar...   \n",
       "1             0  glowing brutalist corporate office sleek shiny...   \n",
       "2             0  a mystic Log cabin, dusk, foggy, mysterious, c...   \n",
       "3             0  Maasai warriors, Kenya, trending on artstation...   \n",
       "4             0  view of a fast food stand that sells squid and...   \n",
       "..          ...                                                ...   \n",
       "740           0  inside a space station, syd mead style, hyperr...   \n",
       "741           0  the city of time, space, and entropy, vast and...   \n",
       "742           0  beautiful girl with short wavy black hair who ...   \n",
       "743           0  Hokkaido, high detail, 8k, by Ashley Wood --ar...   \n",
       "744           0  Two people skiing down a mountain, art nouveau...   \n",
       "\n",
       "                                              SCENARIO  __index_level_0__  \n",
       "0    [아이: 사막에서 별문을 연상시키는 문을 그려봐. 그리고 판타지 잡지 같은 느낌도 ...                790  \n",
       "1    [아이: 사무실 같은 건물을 그려봐. 그리고 건물 주변에 사람들이 많이 있으면 좋겠...               1771  \n",
       "2    [아이: 미스틱한 로그 캐빈 같은 거 그려줘. 그리고 땅에 안개가 자욱하게 깔리는 ...                813  \n",
       "3    [아이: 케냐 마사이 전사들을 그린 그림을 만들어줘. 그리고 아트스테이션에서 인기있...                 91  \n",
       "4    [아이: 빨간색 램엔과 오징어를 파는 패스트푸드 가게를 그려줘., Model: vi...               1066  \n",
       "..                                                 ...                ...  \n",
       "740  [아이: 우주선 안에서 시드 미드 스타일의 그림을 그려봐. 그리고 너무 어두운 느낌...               1167  \n",
       "741  [아이: 저는 미래 도시 같은 그림을 그려봐요. 그리고 빛이 반짝이는 느낌도 있으면...               1701  \n",
       "742  [아이: 진짜 멋진 여자 화보 사진을 그려줘. 그리고 머리는 검은머리 파마로 해줘....                608  \n",
       "743  [아이: 눈사람 그려줘. 눈이 많이 와서 눈사람도 눈이 많이 덮였으면 좋겠어., M...                196  \n",
       "744  [아이: 눈이 내리는 산 위에서 스키를 타는 사람들이 있는 그림을 그려봐. 그리고 ...                422  \n",
       "\n",
       "[745 rows x 4 columns]"
      ]
     },
     "execution_count": 77,
     "metadata": {},
     "output_type": "execute_result"
    }
   ],
   "source": [
    "train_dataset"
   ]
  },
  {
   "cell_type": "code",
   "execution_count": 78,
   "metadata": {},
   "outputs": [],
   "source": [
    "def make_accumulate_dataset(df, file_name):\n",
    "    accumulate_prompts = []\n",
    "    accumulate_inputs = []\n",
    "    outputs = []\n",
    "    accumulate_scenarios = []\n",
    "\n",
    "    for i, row in df.iterrows():\n",
    "        j = 0\n",
    "        \n",
    "        while 2 * j + 1 < len(row['SCENARIO']):\n",
    "            accumulate_prompts.append(row['PROMPT'])\n",
    "            accumulate_inputs.append(row['SCENARIO'][:2*j+1])\n",
    "            outputs.append(row['SCENARIO'][2*j+1])\n",
    "            accumulate_scenarios.append('\\n'.join(row['SCENARIO'][:2*j+2]))\n",
    "            \n",
    "            j += 1\n",
    "\n",
    "    new_dataset = pd.DataFrame()\n",
    "    new_dataset['prompt'] = accumulate_prompts\n",
    "    new_dataset['input'] = accumulate_inputs\n",
    "    new_dataset['output'] = accumulate_inputs\n",
    "    new_dataset['scenario'] = accumulate_scenarios\n",
    "    \n",
    "    new_dataset.to_csv(file_name, index=False)"
   ]
  },
  {
   "cell_type": "code",
   "execution_count": 79,
   "metadata": {},
   "outputs": [],
   "source": [
    "make_accumulate_dataset(train_dataset, 'train.csv')\n",
    "make_accumulate_dataset(valid_dataset, 'valid.csv')\n",
    "make_accumulate_dataset(test_dataset, 'test.csv')"
   ]
  }
 ],
 "metadata": {
  "kernelspec": {
   "display_name": "jyp",
   "language": "python",
   "name": "python3"
  },
  "language_info": {
   "codemirror_mode": {
    "name": "ipython",
    "version": 3
   },
   "file_extension": ".py",
   "mimetype": "text/x-python",
   "name": "python",
   "nbconvert_exporter": "python",
   "pygments_lexer": "ipython3",
   "version": "3.9.16"
  },
  "orig_nbformat": 4
 },
 "nbformat": 4,
 "nbformat_minor": 2
}
