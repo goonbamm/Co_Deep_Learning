{
 "cells": [
  {
   "cell_type": "code",
   "execution_count": 120,
   "metadata": {},
   "outputs": [],
   "source": [
    "import re\n",
    "import pandas as pd"
   ]
  },
  {
   "cell_type": "code",
   "execution_count": 121,
   "metadata": {},
   "outputs": [],
   "source": [
    "SEED = 42"
   ]
  },
  {
   "cell_type": "code",
   "execution_count": 122,
   "metadata": {},
   "outputs": [],
   "source": [
    "prompt_dataset = pd.read_csv('api_dataset.csv')"
   ]
  },
  {
   "cell_type": "code",
   "execution_count": 123,
   "metadata": {},
   "outputs": [
    {
     "data": {
      "text/html": [
       "<div>\n",
       "<style scoped>\n",
       "    .dataframe tbody tr th:only-of-type {\n",
       "        vertical-align: middle;\n",
       "    }\n",
       "\n",
       "    .dataframe tbody tr th {\n",
       "        vertical-align: top;\n",
       "    }\n",
       "\n",
       "    .dataframe thead th {\n",
       "        text-align: right;\n",
       "    }\n",
       "</style>\n",
       "<table border=\"1\" class=\"dataframe\">\n",
       "  <thead>\n",
       "    <tr style=\"text-align: right;\">\n",
       "      <th></th>\n",
       "      <th>Unnamed: 0</th>\n",
       "      <th>PROMPT</th>\n",
       "      <th>SCENARIO</th>\n",
       "    </tr>\n",
       "  </thead>\n",
       "  <tbody>\n",
       "    <tr>\n",
       "      <th>0</th>\n",
       "      <td>0</td>\n",
       "      <td>Giant Biker Gladiator, fullbody; by Peter Mohr...</td>\n",
       "      <td>아이: 저는 거대한 바이커 격투사 그림을 그리고 싶어요. 그리고 그림에는 꼭 Pet...</td>\n",
       "    </tr>\n",
       "    <tr>\n",
       "      <th>1</th>\n",
       "      <td>0</td>\n",
       "      <td>crossing the Shadow fold into the pure darknes...</td>\n",
       "      <td>아이: 저번에 본 것처럼 Shadow fold를 그리고 Volcra creature...</td>\n",
       "    </tr>\n",
       "    <tr>\n",
       "      <th>2</th>\n",
       "      <td>0</td>\n",
       "      <td>fire dragon, sitting in dragon nest, dragon, 4...</td>\n",
       "      <td>아이: 용 둥지에 앉은 불타는 용 그림을 그려봐. 그리고 용의 비늘 디테일도 넣어줘...</td>\n",
       "    </tr>\n",
       "    <tr>\n",
       "      <th>3</th>\n",
       "      <td>0</td>\n",
       "      <td>Woody McBride techno rave poster, big yellow s...</td>\n",
       "      <td>아이: 우디 맥브라이드의 테크노 레이브 포스터를 만들어봐. 큰 노란색 스마일리도 추...</td>\n",
       "    </tr>\n",
       "    <tr>\n",
       "      <th>4</th>\n",
       "      <td>0</td>\n",
       "      <td>savage barbarian victorian shaman warrior cybo...</td>\n",
       "      <td>아이: 저에게 savage barbarian victorian shaman warr...</td>\n",
       "    </tr>\n",
       "  </tbody>\n",
       "</table>\n",
       "</div>"
      ],
      "text/plain": [
       "   Unnamed: 0                                             PROMPT  \\\n",
       "0           0  Giant Biker Gladiator, fullbody; by Peter Mohr...   \n",
       "1           0  crossing the Shadow fold into the pure darknes...   \n",
       "2           0  fire dragon, sitting in dragon nest, dragon, 4...   \n",
       "3           0  Woody McBride techno rave poster, big yellow s...   \n",
       "4           0  savage barbarian victorian shaman warrior cybo...   \n",
       "\n",
       "                                            SCENARIO  \n",
       "0  아이: 저는 거대한 바이커 격투사 그림을 그리고 싶어요. 그리고 그림에는 꼭 Pet...  \n",
       "1  아이: 저번에 본 것처럼 Shadow fold를 그리고 Volcra creature...  \n",
       "2  아이: 용 둥지에 앉은 불타는 용 그림을 그려봐. 그리고 용의 비늘 디테일도 넣어줘...  \n",
       "3  아이: 우디 맥브라이드의 테크노 레이브 포스터를 만들어봐. 큰 노란색 스마일리도 추...  \n",
       "4  아이: 저에게 savage barbarian victorian shaman warr...  "
      ]
     },
     "execution_count": 123,
     "metadata": {},
     "output_type": "execute_result"
    }
   ],
   "source": [
    "prompt_dataset.head()"
   ]
  },
  {
   "cell_type": "code",
   "execution_count": 124,
   "metadata": {},
   "outputs": [],
   "source": [
    "def clean_text(dialogue):\n",
    "    \n",
    "    dialogue_list = []\n",
    "    \n",
    "    for s in dialogue.split('\\n'):\n",
    "        if s != '':\n",
    "            s = s.strip()\n",
    "            if s.startswith('\\\"') and s.endswith('\\\"'):\n",
    "                s = s[1:-1]\n",
    "            dialogue_list.append(s)\n",
    "    \n",
    "    return dialogue_list"
   ]
  },
  {
   "cell_type": "code",
   "execution_count": 125,
   "metadata": {},
   "outputs": [],
   "source": [
    "def contains_english(text):\n",
    "    # Define the regular expression pattern to match English characters\n",
    "    pattern = r'[a-zA-Z]'\n",
    "    \n",
    "    # Use the search method to check if the pattern is found in the text\n",
    "    if re.search(pattern, text):\n",
    "        return True\n",
    "    else:\n",
    "        return False"
   ]
  },
  {
   "cell_type": "code",
   "execution_count": 126,
   "metadata": {},
   "outputs": [],
   "source": [
    "prompt_dataset['SCENARIO'] = prompt_dataset['SCENARIO'].apply(lambda x: clean_text(x))"
   ]
  },
  {
   "cell_type": "code",
   "execution_count": 127,
   "metadata": {},
   "outputs": [
    {
     "data": {
      "text/plain": [
       "1917"
      ]
     },
     "execution_count": 127,
     "metadata": {},
     "output_type": "execute_result"
    }
   ],
   "source": [
    "len(prompt_dataset)"
   ]
  },
  {
   "cell_type": "code",
   "execution_count": 128,
   "metadata": {},
   "outputs": [],
   "source": [
    "drop_list = []\n",
    "\n",
    "# 총 1917개\n",
    "for i, row in prompt_dataset.iterrows():\n",
    "    if len(row['SCENARIO']) <= 4: # 대화 개수가 4개보다 적은 경우: 324개\n",
    "        drop_list.append(i)\n",
    "    \n",
    "    elif len(row['PROMPT']) < 10: # prompt 길이가 10보다 작은 경우: 21개\n",
    "        drop_list.append(i)\n",
    "   \n",
    "    else:\n",
    "        for s in row['SCENARIO']: \n",
    "            if '아이' in s and 'Model' in s: # 대화가 잘못 섞여들어간 경우: 38개\n",
    "                drop_list.append(i)\n",
    "                break\n",
    "        \n",
    "            elif '아이' in s and contains_english(s): # 아이의 대화에 영어가 포함된 경우: 613개\n",
    "                drop_list.append(i)\n",
    "                break"
   ]
  },
  {
   "cell_type": "code",
   "execution_count": 129,
   "metadata": {},
   "outputs": [],
   "source": [
    "prompt_dataset.drop(drop_list, inplace=True)"
   ]
  },
  {
   "cell_type": "code",
   "execution_count": 130,
   "metadata": {},
   "outputs": [
    {
     "data": {
      "text/plain": [
       "921"
      ]
     },
     "execution_count": 130,
     "metadata": {},
     "output_type": "execute_result"
    }
   ],
   "source": [
    "len(prompt_dataset)"
   ]
  },
  {
   "cell_type": "code",
   "execution_count": 131,
   "metadata": {},
   "outputs": [
    {
     "data": {
      "text/html": [
       "<div>\n",
       "<style scoped>\n",
       "    .dataframe tbody tr th:only-of-type {\n",
       "        vertical-align: middle;\n",
       "    }\n",
       "\n",
       "    .dataframe tbody tr th {\n",
       "        vertical-align: top;\n",
       "    }\n",
       "\n",
       "    .dataframe thead th {\n",
       "        text-align: right;\n",
       "    }\n",
       "</style>\n",
       "<table border=\"1\" class=\"dataframe\">\n",
       "  <thead>\n",
       "    <tr style=\"text-align: right;\">\n",
       "      <th></th>\n",
       "      <th>Unnamed: 0</th>\n",
       "      <th>PROMPT</th>\n",
       "      <th>SCENARIO</th>\n",
       "    </tr>\n",
       "  </thead>\n",
       "  <tbody>\n",
       "    <tr>\n",
       "      <th>6</th>\n",
       "      <td>0</td>\n",
       "      <td>highly detailed photograph, 4k, of a lobby : :...</td>\n",
       "      <td>[아이: 저는 요즘 브루탈리스트 건축물에 관심이 생겨서, 로비를 만들어봐주세요., ...</td>\n",
       "    </tr>\n",
       "    <tr>\n",
       "      <th>11</th>\n",
       "      <td>0</td>\n",
       "      <td>child's drawing of the end of the world, crayo...</td>\n",
       "      <td>[아이: 하얀 종이에 세상의 끝을 그려봐. 크레용으로 그리면 좋겠어., Model:...</td>\n",
       "    </tr>\n",
       "    <tr>\n",
       "      <th>14</th>\n",
       "      <td>0</td>\n",
       "      <td>small texture, black and white, used look, abs...</td>\n",
       "      <td>[아이: 그림을 그려주세요., Model: What kind of picture w...</td>\n",
       "    </tr>\n",
       "    <tr>\n",
       "      <th>15</th>\n",
       "      <td>0</td>\n",
       "      <td>Victorian era photographs, spirit photography,...</td>\n",
       "      <td>[아이: 요즘 유행하는 영화처럼 귀신들이 나오는 사진을 만들어봐. 그리고 그 사진에...</td>\n",
       "    </tr>\n",
       "    <tr>\n",
       "      <th>20</th>\n",
       "      <td>0</td>\n",
       "      <td>Divine syncronicities between Christianity and...</td>\n",
       "      <td>[아이: 성경과 이슬람교의 신비한 유사점을 그림으로 나타내봐. 그리고 그림에는 조상...</td>\n",
       "    </tr>\n",
       "  </tbody>\n",
       "</table>\n",
       "</div>"
      ],
      "text/plain": [
       "    Unnamed: 0                                             PROMPT  \\\n",
       "6            0  highly detailed photograph, 4k, of a lobby : :...   \n",
       "11           0  child's drawing of the end of the world, crayo...   \n",
       "14           0  small texture, black and white, used look, abs...   \n",
       "15           0  Victorian era photographs, spirit photography,...   \n",
       "20           0  Divine syncronicities between Christianity and...   \n",
       "\n",
       "                                             SCENARIO  \n",
       "6   [아이: 저는 요즘 브루탈리스트 건축물에 관심이 생겨서, 로비를 만들어봐주세요., ...  \n",
       "11  [아이: 하얀 종이에 세상의 끝을 그려봐. 크레용으로 그리면 좋겠어., Model:...  \n",
       "14  [아이: 그림을 그려주세요., Model: What kind of picture w...  \n",
       "15  [아이: 요즘 유행하는 영화처럼 귀신들이 나오는 사진을 만들어봐. 그리고 그 사진에...  \n",
       "20  [아이: 성경과 이슬람교의 신비한 유사점을 그림으로 나타내봐. 그리고 그림에는 조상...  "
      ]
     },
     "execution_count": 131,
     "metadata": {},
     "output_type": "execute_result"
    }
   ],
   "source": [
    "prompt_dataset.head()"
   ]
  },
  {
   "cell_type": "code",
   "execution_count": 132,
   "metadata": {},
   "outputs": [],
   "source": [
    "from datasets import Dataset"
   ]
  },
  {
   "cell_type": "code",
   "execution_count": 133,
   "metadata": {},
   "outputs": [],
   "source": [
    "prompt_dataset = Dataset.from_pandas(prompt_dataset)\n",
    "# Split the dataset into train and test sets (90% train, 10% test)\n",
    "prompt_dataset = prompt_dataset.train_test_split(test_size=0.1, seed=SEED)\n",
    "\n",
    "# Split the train set further into train and validation sets (90% train, 10% validation)\n",
    "prompt_dataset['train'] = prompt_dataset['train'].train_test_split(test_size=0.1)\n",
    "\n",
    "# Access the resulting datasets\n",
    "train_dataset = prompt_dataset['train']['train'].to_pandas()\n",
    "valid_dataset = prompt_dataset['train']['test'].to_pandas()\n",
    "test_dataset = prompt_dataset['test'].to_pandas()"
   ]
  },
  {
   "cell_type": "code",
   "execution_count": 134,
   "metadata": {},
   "outputs": [
    {
     "data": {
      "text/html": [
       "<div>\n",
       "<style scoped>\n",
       "    .dataframe tbody tr th:only-of-type {\n",
       "        vertical-align: middle;\n",
       "    }\n",
       "\n",
       "    .dataframe tbody tr th {\n",
       "        vertical-align: top;\n",
       "    }\n",
       "\n",
       "    .dataframe thead th {\n",
       "        text-align: right;\n",
       "    }\n",
       "</style>\n",
       "<table border=\"1\" class=\"dataframe\">\n",
       "  <thead>\n",
       "    <tr style=\"text-align: right;\">\n",
       "      <th></th>\n",
       "      <th>Unnamed: 0</th>\n",
       "      <th>PROMPT</th>\n",
       "      <th>SCENARIO</th>\n",
       "      <th>__index_level_0__</th>\n",
       "    </tr>\n",
       "  </thead>\n",
       "  <tbody>\n",
       "    <tr>\n",
       "      <th>0</th>\n",
       "      <td>0</td>\n",
       "      <td>wide angle 50mm photo of new york flooded, cov...</td>\n",
       "      <td>[아이: 뉴욕을 침수시키고 파괴된 건물 위에 식물을 심어봐. 그리고 건물 안에는 오...</td>\n",
       "      <td>576</td>\n",
       "    </tr>\n",
       "    <tr>\n",
       "      <th>1</th>\n",
       "      <td>0</td>\n",
       "      <td>A classical oil painting of  the interior of a...</td>\n",
       "      <td>[아이: 초록색 빛이 비치는 고딕식 교회의 내부를 그려봐. 그리고 거기에 새 같은 ...</td>\n",
       "      <td>1305</td>\n",
       "    </tr>\n",
       "    <tr>\n",
       "      <th>2</th>\n",
       "      <td>0</td>\n",
       "      <td>two knights kissing with golden halos, medieva...</td>\n",
       "      <td>[아이: 중세시대 느낌의 그림을 그려봐. 그리고 두 기사가 서로 입맞추고 있는 걸 ...</td>\n",
       "      <td>1884</td>\n",
       "    </tr>\n",
       "    <tr>\n",
       "      <th>3</th>\n",
       "      <td>0</td>\n",
       "      <td>winnie the pooh, soviet poster, highly detaile...</td>\n",
       "      <td>[아이: 유니콘 그림을 그려봐. 그리고 포스터 같은 느낌도 내고 싶어., Model...</td>\n",
       "      <td>939</td>\n",
       "    </tr>\n",
       "    <tr>\n",
       "      <th>4</th>\n",
       "      <td>0</td>\n",
       "      <td>gnome, fantasy, d&amp;d, close-up, portrait by DiT...</td>\n",
       "      <td>[아이: 저는 요즘 판타지 소설을 많이 읽고 있어요. 그래서 판타지 세계를 그린 그...</td>\n",
       "      <td>372</td>\n",
       "    </tr>\n",
       "    <tr>\n",
       "      <th>...</th>\n",
       "      <td>...</td>\n",
       "      <td>...</td>\n",
       "      <td>...</td>\n",
       "      <td>...</td>\n",
       "    </tr>\n",
       "    <tr>\n",
       "      <th>740</th>\n",
       "      <td>0</td>\n",
       "      <td>a boy seated playing video games, year 2060, 3...</td>\n",
       "      <td>[아이: 미래의 게임하는 소년이 있는 그림을 그려줘., Model: a boy pl...</td>\n",
       "      <td>992</td>\n",
       "    </tr>\n",
       "    <tr>\n",
       "      <th>741</th>\n",
       "      <td>0</td>\n",
       "      <td>concept art Guizhou Plateau Broadleaf and Mixe...</td>\n",
       "      <td>[아이: 제가 보고싶은 그림은 광활한 숲이에요. 그리고 그림이 매우 실감나게 그려지...</td>\n",
       "      <td>1117</td>\n",
       "    </tr>\n",
       "    <tr>\n",
       "      <th>742</th>\n",
       "      <td>0</td>\n",
       "      <td>greek goddess selfie in front of temple of oly...</td>\n",
       "      <td>[아이: 그림 그려줘. 그림은 그리스 신전 앞에서 찍은 사진이어야 해., Model...</td>\n",
       "      <td>1158</td>\n",
       "    </tr>\n",
       "    <tr>\n",
       "      <th>743</th>\n",
       "      <td>0</td>\n",
       "      <td>Comic style, 4D\\uff0cwearing suit thug style c...</td>\n",
       "      <td>[아이: 호랑이가 있는 코믹북 같은 그림을 그려봐. 그리고 그 호랑이가 강한 인체를...</td>\n",
       "      <td>1622</td>\n",
       "    </tr>\n",
       "    <tr>\n",
       "      <th>744</th>\n",
       "      <td>0</td>\n",
       "      <td>[Blue tongue Lizard], unreal engine render in ...</td>\n",
       "      <td>[아이: 저기 파란색 도마뱀 그림 좀 그려줄래? 그리고 그 도마뱀을 공 모양으로 그...</td>\n",
       "      <td>1060</td>\n",
       "    </tr>\n",
       "  </tbody>\n",
       "</table>\n",
       "<p>745 rows × 4 columns</p>\n",
       "</div>"
      ],
      "text/plain": [
       "     Unnamed: 0                                             PROMPT  \\\n",
       "0             0  wide angle 50mm photo of new york flooded, cov...   \n",
       "1             0  A classical oil painting of  the interior of a...   \n",
       "2             0  two knights kissing with golden halos, medieva...   \n",
       "3             0  winnie the pooh, soviet poster, highly detaile...   \n",
       "4             0  gnome, fantasy, d&d, close-up, portrait by DiT...   \n",
       "..          ...                                                ...   \n",
       "740           0  a boy seated playing video games, year 2060, 3...   \n",
       "741           0  concept art Guizhou Plateau Broadleaf and Mixe...   \n",
       "742           0  greek goddess selfie in front of temple of oly...   \n",
       "743           0  Comic style, 4D\\uff0cwearing suit thug style c...   \n",
       "744           0  [Blue tongue Lizard], unreal engine render in ...   \n",
       "\n",
       "                                              SCENARIO  __index_level_0__  \n",
       "0    [아이: 뉴욕을 침수시키고 파괴된 건물 위에 식물을 심어봐. 그리고 건물 안에는 오...                576  \n",
       "1    [아이: 초록색 빛이 비치는 고딕식 교회의 내부를 그려봐. 그리고 거기에 새 같은 ...               1305  \n",
       "2    [아이: 중세시대 느낌의 그림을 그려봐. 그리고 두 기사가 서로 입맞추고 있는 걸 ...               1884  \n",
       "3    [아이: 유니콘 그림을 그려봐. 그리고 포스터 같은 느낌도 내고 싶어., Model...                939  \n",
       "4    [아이: 저는 요즘 판타지 소설을 많이 읽고 있어요. 그래서 판타지 세계를 그린 그...                372  \n",
       "..                                                 ...                ...  \n",
       "740  [아이: 미래의 게임하는 소년이 있는 그림을 그려줘., Model: a boy pl...                992  \n",
       "741  [아이: 제가 보고싶은 그림은 광활한 숲이에요. 그리고 그림이 매우 실감나게 그려지...               1117  \n",
       "742  [아이: 그림 그려줘. 그림은 그리스 신전 앞에서 찍은 사진이어야 해., Model...               1158  \n",
       "743  [아이: 호랑이가 있는 코믹북 같은 그림을 그려봐. 그리고 그 호랑이가 강한 인체를...               1622  \n",
       "744  [아이: 저기 파란색 도마뱀 그림 좀 그려줄래? 그리고 그 도마뱀을 공 모양으로 그...               1060  \n",
       "\n",
       "[745 rows x 4 columns]"
      ]
     },
     "execution_count": 134,
     "metadata": {},
     "output_type": "execute_result"
    }
   ],
   "source": [
    "train_dataset"
   ]
  },
  {
   "cell_type": "code",
   "execution_count": 135,
   "metadata": {},
   "outputs": [],
   "source": [
    "def make_accumulate_dataset(df, file_name):\n",
    "    accumulate_prompts = []\n",
    "    accumulate_inputs = []\n",
    "    outputs = []\n",
    "    accumulate_scenarios = []\n",
    "    instructions = []\n",
    "    templates = []\n",
    "\n",
    "    for i, row in df.iterrows():\n",
    "        j = 0\n",
    "        \n",
    "        while 2 * j + 1 < len(row['SCENARIO']):\n",
    "            accumulate_prompts.append(row['PROMPT'])\n",
    "            template_input = '\\n'.join(row['SCENARIO'][max(0, 2*j-1): 2*j+1])\n",
    "            accumulate_inputs.append(template_input)\n",
    "            outputs.append(row['SCENARIO'][2*j+1])\n",
    "            accumulate_scenarios.append('\\n'.join(row['SCENARIO'][:2*j+2]))\n",
    "            \n",
    "            instruction = '아이의 요구사항을 그림 생성을 위한 프롬프트를 번역하세요.' \\\n",
    "                if j == 0 else '기존 프롬프트에 아이의 요구사항을 반영하여 새로운 프롬프트를 생성하세요.'\n",
    "                 \n",
    "            instructions.append(instruction)\n",
    "            \n",
    "            \n",
    "            PROMPT_TEMPLATE = [\n",
    "                \"Below is an instruction that describes a task, paired with an input that provides further context.\\n\",\n",
    "                \"아래는 작업을 설명하는 명령어와 추가적 맥락을 제공하는 입력이 짝을 이루는 예제입니다.\\n\\n\",\n",
    "                \"Write a response that appropriately completes the request.\\n요청을 적절히 완료하는 응답을 작성하세요.\\n\\n\",\n",
    "                f\"### Instruction(명령어):\\n{instruction}\\n\\n### Input(입력):\\n{template_input}\\n\\n### Response(응답):\"\n",
    "                ]\n",
    "            \n",
    "            templates.append(''.join(PROMPT_TEMPLATE))\n",
    "            \n",
    "            j += 1\n",
    "\n",
    "    new_dataset = pd.DataFrame()\n",
    "    new_dataset['template'] = templates\n",
    "    new_dataset['prompt'] = accumulate_prompts\n",
    "    new_dataset['instruction'] = instructions\n",
    "    new_dataset['input'] = accumulate_inputs\n",
    "    new_dataset['output'] = outputs\n",
    "    new_dataset['scenario'] = accumulate_scenarios\n",
    "    \n",
    "    new_dataset.to_csv(file_name, index=False)\n",
    "    \n",
    "    print(f'file name: {file_name}, len: {len(new_dataset)}')"
   ]
  },
  {
   "cell_type": "code",
   "execution_count": 136,
   "metadata": {},
   "outputs": [
    {
     "name": "stdout",
     "output_type": "stream",
     "text": [
      "file name: train.csv, len: 4016\n",
      "file name: valid.csv, len: 436\n",
      "file name: test.csv, len: 530\n"
     ]
    }
   ],
   "source": [
    "make_accumulate_dataset(train_dataset, 'train.csv')\n",
    "make_accumulate_dataset(valid_dataset, 'valid.csv')\n",
    "make_accumulate_dataset(test_dataset, 'test.csv')"
   ]
  }
 ],
 "metadata": {
  "kernelspec": {
   "display_name": "jyp",
   "language": "python",
   "name": "python3"
  },
  "language_info": {
   "codemirror_mode": {
    "name": "ipython",
    "version": 3
   },
   "file_extension": ".py",
   "mimetype": "text/x-python",
   "name": "python",
   "nbconvert_exporter": "python",
   "pygments_lexer": "ipython3",
   "version": "3.9.16"
  },
  "orig_nbformat": 4
 },
 "nbformat": 4,
 "nbformat_minor": 2
}
